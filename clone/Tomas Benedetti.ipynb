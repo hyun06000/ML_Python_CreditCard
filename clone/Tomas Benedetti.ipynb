{
 "cells": [
  {
   "cell_type": "code",
   "execution_count": 1,
   "metadata": {},
   "outputs": [],
   "source": [
    "%config Completer.use_jedi = False"
   ]
  },
  {
   "cell_type": "markdown",
   "metadata": {},
   "source": [
    "https://www.kaggle.com/nixiam/credit-card-fraud-detection-autoencoder"
   ]
  },
  {
   "cell_type": "markdown",
   "metadata": {},
   "source": [
    "# AutoEncoder : self learning and anomaly detection for Credit Card Fraud Detection\n",
    "   \n",
    "   \n",
    "***Self-reconstruction by manifold learning***  \n",
    "이 노트북은 AutoEncoder을 이용하여 분석했다는 것에 초점을 둔다. 그 중에서도 AutoEncoder의 특성중 하나인 manifold learning을 이용한다. Manifold learning은 학습하고자하는 고차원의 Database를 저차원 공간의 manifold 위로 mapping 하여 관계성을 찾는 것을 말한다. 만약 학습하고자 하는 DB가 매끄러운 manifold를 잘 형성하고 각 데이터가 manifold 위의 한 점으로 mapping 될 수 있다면 encoder는 이 작업을 원활하게 수행할 수 있다. 하지만 Dataspace상에서 encoder가 잘 mapping할 수 없는 영역의 data가 주어지는 경우 decoder로 해석할 수 있는 매끄러운 manifold에 mapping되지 않고 이는 데이터의 심한 왜곡을 동반하게 된다. 이렇게 학습된 DB의 특성에 가까운 데이터를 잘 복원해 내는 능력을 자기복원 능력이라고 한다.  \n",
    "  \n",
    "***Anomaly Detection with self-reconstruction***  \n",
    "이번 노트북에서는 AutEncoder의 자기복원능력을 다룬다는 사실이 중요하다. (이 다음에 다뤄볼 노트북에서는 semi-supervised learning을 통한 저차원 표현에 관해서 다뤄볼 것이다.) 자기복원 능력이 잘 학습된 모델일 수록 원하는 DB의 페턴에 해당하는 데이터는 손실이나 왜곡없이 복원해 내고 그렇지 않은 즉 abnormal data는 심한 왜곡을 동반한다. 모델을 통과하기 전의 자신으로부터 얼마나 달라졌는지를 확인하는 reconstruction loss를 측정하고 적절한 elbow point를 문턱값으로 설정함으로 관측된 데이터가 normal 한지 abnormal 한지 알아낼 수 있다. 원문서의 작성자는 AutoEncoder를 불균형한 데이터를 이용하여 아주 소수의 Fraud data를 abnormal 하다고 가정하고 문제를 풀이한다. 하지만 몇가지 납득되지 않는 부분들도 있어서 그런 부분들만 내 식으로 수정하여서 따라가 보도록 하였다.\n"
   ]
  },
  {
   "cell_type": "code",
   "execution_count": 2,
   "metadata": {},
   "outputs": [
    {
     "name": "stdout",
     "output_type": "stream",
     "text": [
      "2.4.1\n"
     ]
    }
   ],
   "source": [
    "import tensorflow as tf\n",
    "print(tf.__version__)"
   ]
  },
  {
   "cell_type": "markdown",
   "metadata": {},
   "source": [
    "사실 나는 딥러닝을 시작으로 머신러닝에 입문하였고 일반적인 머신러닝의 한계점들을 극복하면서 딥러닝이 등장했다고 알고있었기 때문에 일반적인 데이터 분석에서 딥러닝만 뚝딱하면 원하는 모델이 딱뚝 학습될 것이라고 막연하게 생각하고 있었다. 하지만 캐글에 입문하여 여러 고수 형님들의 코드를 보고 내가 아는 데이터 분석, 머신러닝은 정말 새발의 피 정도 된다는 것을 느꼈다. 심지어 머신러닝은 쓰지도 않고 원하는 모델링을 수학적으로 해내는 사람들도 있었다. 그래서 캐글을 시작하기 전에는 이렇게 간만에 tensorflow를 보게될 줄 몰랐다. 오랜만에 보니 반갑다."
   ]
  },
  {
   "cell_type": "code",
   "execution_count": 3,
   "metadata": {},
   "outputs": [],
   "source": [
    "# 사용 가능한 GPU 찾는 부분은 생략\n",
    "\n",
    "from tensorflow.keras.models import Model\n",
    "from tensorflow.keras.layers import Input, Dense, Dropout"
   ]
  },
  {
   "cell_type": "markdown",
   "metadata": {},
   "source": [
    "Fully connected layer들을 이용해서 병목을 만들고 거기서 표현되는 차원들을 들여다 볼 것이다. 필요한 패키지들을 불러왔다."
   ]
  },
  {
   "cell_type": "code",
   "execution_count": 4,
   "metadata": {},
   "outputs": [],
   "source": [
    "import numpy as np\n",
    "import pandas as pd\n",
    "import matplotlib.pyplot as plt\n",
    "# 여기까지 import 끝"
   ]
  },
  {
   "cell_type": "code",
   "execution_count": 5,
   "metadata": {},
   "outputs": [],
   "source": [
    "df = pd.read_csv('../data/creditcard.csv')\n",
    "\n",
    "# 앞으로는 소수점 아래 4자리까지만 보자.\n",
    "#pd.options.display.float_format = \"{:.4f}\".format"
   ]
  },
  {
   "cell_type": "markdown",
   "metadata": {},
   "source": [
    "좋은거 배웠다. 람다 형식으로 함수 자체를 지정해버리는 스킬인듯 하다. 나중에 더 찾아볼것. 하지만 여기서는 쓰지 않는다."
   ]
  },
  {
   "cell_type": "code",
   "execution_count": 6,
   "metadata": {},
   "outputs": [
    {
     "name": "stdout",
     "output_type": "stream",
     "text": [
      "<class 'pandas.core.frame.DataFrame'>\n",
      "RangeIndex: 284807 entries, 0 to 284806\n",
      "Data columns (total 31 columns):\n",
      " #   Column  Non-Null Count   Dtype  \n",
      "---  ------  --------------   -----  \n",
      " 0   Time    284807 non-null  float64\n",
      " 1   V1      284807 non-null  float64\n",
      " 2   V2      284807 non-null  float64\n",
      " 3   V3      284807 non-null  float64\n",
      " 4   V4      284807 non-null  float64\n",
      " 5   V5      284807 non-null  float64\n",
      " 6   V6      284807 non-null  float64\n",
      " 7   V7      284807 non-null  float64\n",
      " 8   V8      284807 non-null  float64\n",
      " 9   V9      284807 non-null  float64\n",
      " 10  V10     284807 non-null  float64\n",
      " 11  V11     284807 non-null  float64\n",
      " 12  V12     284807 non-null  float64\n",
      " 13  V13     284807 non-null  float64\n",
      " 14  V14     284807 non-null  float64\n",
      " 15  V15     284807 non-null  float64\n",
      " 16  V16     284807 non-null  float64\n",
      " 17  V17     284807 non-null  float64\n",
      " 18  V18     284807 non-null  float64\n",
      " 19  V19     284807 non-null  float64\n",
      " 20  V20     284807 non-null  float64\n",
      " 21  V21     284807 non-null  float64\n",
      " 22  V22     284807 non-null  float64\n",
      " 23  V23     284807 non-null  float64\n",
      " 24  V24     284807 non-null  float64\n",
      " 25  V25     284807 non-null  float64\n",
      " 26  V26     284807 non-null  float64\n",
      " 27  V27     284807 non-null  float64\n",
      " 28  V28     284807 non-null  float64\n",
      " 29  Amount  284807 non-null  float64\n",
      " 30  Class   284807 non-null  int64  \n",
      "dtypes: float64(30), int64(1)\n",
      "memory usage: 67.4 MB\n"
     ]
    }
   ],
   "source": [
    "df.info()"
   ]
  },
  {
   "cell_type": "markdown",
   "metadata": {},
   "source": [
    "여기서 알 수 있는 정보는 다음과 같다.  \n",
    "- null 값이 없는 이상적인 데이터다.  \n",
    "- Class를 제외한 모든 데이터가 float64로 통일되어있다.  \n",
    "- Time과 Amount 를 제외한 모든 데이터가 float64로 통일되어있다.\n",
    "- Vn 으로 표시된 열들은 서로 어떤 관련성이 있는지 유추할 수 있는 정보가 없다."
   ]
  },
  {
   "cell_type": "code",
   "execution_count": 7,
   "metadata": {},
   "outputs": [
    {
     "data": {
      "text/html": [
       "<div>\n",
       "<style scoped>\n",
       "    .dataframe tbody tr th:only-of-type {\n",
       "        vertical-align: middle;\n",
       "    }\n",
       "\n",
       "    .dataframe tbody tr th {\n",
       "        vertical-align: top;\n",
       "    }\n",
       "\n",
       "    .dataframe thead th {\n",
       "        text-align: right;\n",
       "    }\n",
       "</style>\n",
       "<table border=\"1\" class=\"dataframe\">\n",
       "  <thead>\n",
       "    <tr style=\"text-align: right;\">\n",
       "      <th></th>\n",
       "      <th>Time</th>\n",
       "      <th>V1</th>\n",
       "      <th>V2</th>\n",
       "      <th>V3</th>\n",
       "      <th>V4</th>\n",
       "      <th>V5</th>\n",
       "      <th>V6</th>\n",
       "      <th>V7</th>\n",
       "      <th>V8</th>\n",
       "      <th>V9</th>\n",
       "      <th>...</th>\n",
       "      <th>V21</th>\n",
       "      <th>V22</th>\n",
       "      <th>V23</th>\n",
       "      <th>V24</th>\n",
       "      <th>V25</th>\n",
       "      <th>V26</th>\n",
       "      <th>V27</th>\n",
       "      <th>V28</th>\n",
       "      <th>Amount</th>\n",
       "      <th>Class</th>\n",
       "    </tr>\n",
       "  </thead>\n",
       "  <tbody>\n",
       "    <tr>\n",
       "      <th>count</th>\n",
       "      <td>284807.000000</td>\n",
       "      <td>2.848070e+05</td>\n",
       "      <td>2.848070e+05</td>\n",
       "      <td>2.848070e+05</td>\n",
       "      <td>2.848070e+05</td>\n",
       "      <td>2.848070e+05</td>\n",
       "      <td>2.848070e+05</td>\n",
       "      <td>2.848070e+05</td>\n",
       "      <td>2.848070e+05</td>\n",
       "      <td>2.848070e+05</td>\n",
       "      <td>...</td>\n",
       "      <td>2.848070e+05</td>\n",
       "      <td>2.848070e+05</td>\n",
       "      <td>2.848070e+05</td>\n",
       "      <td>2.848070e+05</td>\n",
       "      <td>2.848070e+05</td>\n",
       "      <td>2.848070e+05</td>\n",
       "      <td>2.848070e+05</td>\n",
       "      <td>2.848070e+05</td>\n",
       "      <td>284807.000000</td>\n",
       "      <td>284807.000000</td>\n",
       "    </tr>\n",
       "    <tr>\n",
       "      <th>mean</th>\n",
       "      <td>94813.859575</td>\n",
       "      <td>1.165980e-15</td>\n",
       "      <td>3.416908e-16</td>\n",
       "      <td>-1.373150e-15</td>\n",
       "      <td>2.086869e-15</td>\n",
       "      <td>9.604066e-16</td>\n",
       "      <td>1.490107e-15</td>\n",
       "      <td>-5.556467e-16</td>\n",
       "      <td>1.177556e-16</td>\n",
       "      <td>-2.406455e-15</td>\n",
       "      <td>...</td>\n",
       "      <td>1.656562e-16</td>\n",
       "      <td>-3.444850e-16</td>\n",
       "      <td>2.578648e-16</td>\n",
       "      <td>4.471968e-15</td>\n",
       "      <td>5.340915e-16</td>\n",
       "      <td>1.687098e-15</td>\n",
       "      <td>-3.666453e-16</td>\n",
       "      <td>-1.220404e-16</td>\n",
       "      <td>88.349619</td>\n",
       "      <td>0.001727</td>\n",
       "    </tr>\n",
       "    <tr>\n",
       "      <th>std</th>\n",
       "      <td>47488.145955</td>\n",
       "      <td>1.958696e+00</td>\n",
       "      <td>1.651309e+00</td>\n",
       "      <td>1.516255e+00</td>\n",
       "      <td>1.415869e+00</td>\n",
       "      <td>1.380247e+00</td>\n",
       "      <td>1.332271e+00</td>\n",
       "      <td>1.237094e+00</td>\n",
       "      <td>1.194353e+00</td>\n",
       "      <td>1.098632e+00</td>\n",
       "      <td>...</td>\n",
       "      <td>7.345240e-01</td>\n",
       "      <td>7.257016e-01</td>\n",
       "      <td>6.244603e-01</td>\n",
       "      <td>6.056471e-01</td>\n",
       "      <td>5.212781e-01</td>\n",
       "      <td>4.822270e-01</td>\n",
       "      <td>4.036325e-01</td>\n",
       "      <td>3.300833e-01</td>\n",
       "      <td>250.120109</td>\n",
       "      <td>0.041527</td>\n",
       "    </tr>\n",
       "    <tr>\n",
       "      <th>min</th>\n",
       "      <td>0.000000</td>\n",
       "      <td>-5.640751e+01</td>\n",
       "      <td>-7.271573e+01</td>\n",
       "      <td>-4.832559e+01</td>\n",
       "      <td>-5.683171e+00</td>\n",
       "      <td>-1.137433e+02</td>\n",
       "      <td>-2.616051e+01</td>\n",
       "      <td>-4.355724e+01</td>\n",
       "      <td>-7.321672e+01</td>\n",
       "      <td>-1.343407e+01</td>\n",
       "      <td>...</td>\n",
       "      <td>-3.483038e+01</td>\n",
       "      <td>-1.093314e+01</td>\n",
       "      <td>-4.480774e+01</td>\n",
       "      <td>-2.836627e+00</td>\n",
       "      <td>-1.029540e+01</td>\n",
       "      <td>-2.604551e+00</td>\n",
       "      <td>-2.256568e+01</td>\n",
       "      <td>-1.543008e+01</td>\n",
       "      <td>0.000000</td>\n",
       "      <td>0.000000</td>\n",
       "    </tr>\n",
       "    <tr>\n",
       "      <th>25%</th>\n",
       "      <td>54201.500000</td>\n",
       "      <td>-9.203734e-01</td>\n",
       "      <td>-5.985499e-01</td>\n",
       "      <td>-8.903648e-01</td>\n",
       "      <td>-8.486401e-01</td>\n",
       "      <td>-6.915971e-01</td>\n",
       "      <td>-7.682956e-01</td>\n",
       "      <td>-5.540759e-01</td>\n",
       "      <td>-2.086297e-01</td>\n",
       "      <td>-6.430976e-01</td>\n",
       "      <td>...</td>\n",
       "      <td>-2.283949e-01</td>\n",
       "      <td>-5.423504e-01</td>\n",
       "      <td>-1.618463e-01</td>\n",
       "      <td>-3.545861e-01</td>\n",
       "      <td>-3.171451e-01</td>\n",
       "      <td>-3.269839e-01</td>\n",
       "      <td>-7.083953e-02</td>\n",
       "      <td>-5.295979e-02</td>\n",
       "      <td>5.600000</td>\n",
       "      <td>0.000000</td>\n",
       "    </tr>\n",
       "    <tr>\n",
       "      <th>50%</th>\n",
       "      <td>84692.000000</td>\n",
       "      <td>1.810880e-02</td>\n",
       "      <td>6.548556e-02</td>\n",
       "      <td>1.798463e-01</td>\n",
       "      <td>-1.984653e-02</td>\n",
       "      <td>-5.433583e-02</td>\n",
       "      <td>-2.741871e-01</td>\n",
       "      <td>4.010308e-02</td>\n",
       "      <td>2.235804e-02</td>\n",
       "      <td>-5.142873e-02</td>\n",
       "      <td>...</td>\n",
       "      <td>-2.945017e-02</td>\n",
       "      <td>6.781943e-03</td>\n",
       "      <td>-1.119293e-02</td>\n",
       "      <td>4.097606e-02</td>\n",
       "      <td>1.659350e-02</td>\n",
       "      <td>-5.213911e-02</td>\n",
       "      <td>1.342146e-03</td>\n",
       "      <td>1.124383e-02</td>\n",
       "      <td>22.000000</td>\n",
       "      <td>0.000000</td>\n",
       "    </tr>\n",
       "    <tr>\n",
       "      <th>75%</th>\n",
       "      <td>139320.500000</td>\n",
       "      <td>1.315642e+00</td>\n",
       "      <td>8.037239e-01</td>\n",
       "      <td>1.027196e+00</td>\n",
       "      <td>7.433413e-01</td>\n",
       "      <td>6.119264e-01</td>\n",
       "      <td>3.985649e-01</td>\n",
       "      <td>5.704361e-01</td>\n",
       "      <td>3.273459e-01</td>\n",
       "      <td>5.971390e-01</td>\n",
       "      <td>...</td>\n",
       "      <td>1.863772e-01</td>\n",
       "      <td>5.285536e-01</td>\n",
       "      <td>1.476421e-01</td>\n",
       "      <td>4.395266e-01</td>\n",
       "      <td>3.507156e-01</td>\n",
       "      <td>2.409522e-01</td>\n",
       "      <td>9.104512e-02</td>\n",
       "      <td>7.827995e-02</td>\n",
       "      <td>77.165000</td>\n",
       "      <td>0.000000</td>\n",
       "    </tr>\n",
       "    <tr>\n",
       "      <th>max</th>\n",
       "      <td>172792.000000</td>\n",
       "      <td>2.454930e+00</td>\n",
       "      <td>2.205773e+01</td>\n",
       "      <td>9.382558e+00</td>\n",
       "      <td>1.687534e+01</td>\n",
       "      <td>3.480167e+01</td>\n",
       "      <td>7.330163e+01</td>\n",
       "      <td>1.205895e+02</td>\n",
       "      <td>2.000721e+01</td>\n",
       "      <td>1.559499e+01</td>\n",
       "      <td>...</td>\n",
       "      <td>2.720284e+01</td>\n",
       "      <td>1.050309e+01</td>\n",
       "      <td>2.252841e+01</td>\n",
       "      <td>4.584549e+00</td>\n",
       "      <td>7.519589e+00</td>\n",
       "      <td>3.517346e+00</td>\n",
       "      <td>3.161220e+01</td>\n",
       "      <td>3.384781e+01</td>\n",
       "      <td>25691.160000</td>\n",
       "      <td>1.000000</td>\n",
       "    </tr>\n",
       "  </tbody>\n",
       "</table>\n",
       "<p>8 rows × 31 columns</p>\n",
       "</div>"
      ],
      "text/plain": [
       "                Time            V1            V2            V3            V4  \\\n",
       "count  284807.000000  2.848070e+05  2.848070e+05  2.848070e+05  2.848070e+05   \n",
       "mean    94813.859575  1.165980e-15  3.416908e-16 -1.373150e-15  2.086869e-15   \n",
       "std     47488.145955  1.958696e+00  1.651309e+00  1.516255e+00  1.415869e+00   \n",
       "min         0.000000 -5.640751e+01 -7.271573e+01 -4.832559e+01 -5.683171e+00   \n",
       "25%     54201.500000 -9.203734e-01 -5.985499e-01 -8.903648e-01 -8.486401e-01   \n",
       "50%     84692.000000  1.810880e-02  6.548556e-02  1.798463e-01 -1.984653e-02   \n",
       "75%    139320.500000  1.315642e+00  8.037239e-01  1.027196e+00  7.433413e-01   \n",
       "max    172792.000000  2.454930e+00  2.205773e+01  9.382558e+00  1.687534e+01   \n",
       "\n",
       "                 V5            V6            V7            V8            V9  \\\n",
       "count  2.848070e+05  2.848070e+05  2.848070e+05  2.848070e+05  2.848070e+05   \n",
       "mean   9.604066e-16  1.490107e-15 -5.556467e-16  1.177556e-16 -2.406455e-15   \n",
       "std    1.380247e+00  1.332271e+00  1.237094e+00  1.194353e+00  1.098632e+00   \n",
       "min   -1.137433e+02 -2.616051e+01 -4.355724e+01 -7.321672e+01 -1.343407e+01   \n",
       "25%   -6.915971e-01 -7.682956e-01 -5.540759e-01 -2.086297e-01 -6.430976e-01   \n",
       "50%   -5.433583e-02 -2.741871e-01  4.010308e-02  2.235804e-02 -5.142873e-02   \n",
       "75%    6.119264e-01  3.985649e-01  5.704361e-01  3.273459e-01  5.971390e-01   \n",
       "max    3.480167e+01  7.330163e+01  1.205895e+02  2.000721e+01  1.559499e+01   \n",
       "\n",
       "       ...           V21           V22           V23           V24  \\\n",
       "count  ...  2.848070e+05  2.848070e+05  2.848070e+05  2.848070e+05   \n",
       "mean   ...  1.656562e-16 -3.444850e-16  2.578648e-16  4.471968e-15   \n",
       "std    ...  7.345240e-01  7.257016e-01  6.244603e-01  6.056471e-01   \n",
       "min    ... -3.483038e+01 -1.093314e+01 -4.480774e+01 -2.836627e+00   \n",
       "25%    ... -2.283949e-01 -5.423504e-01 -1.618463e-01 -3.545861e-01   \n",
       "50%    ... -2.945017e-02  6.781943e-03 -1.119293e-02  4.097606e-02   \n",
       "75%    ...  1.863772e-01  5.285536e-01  1.476421e-01  4.395266e-01   \n",
       "max    ...  2.720284e+01  1.050309e+01  2.252841e+01  4.584549e+00   \n",
       "\n",
       "                V25           V26           V27           V28         Amount  \\\n",
       "count  2.848070e+05  2.848070e+05  2.848070e+05  2.848070e+05  284807.000000   \n",
       "mean   5.340915e-16  1.687098e-15 -3.666453e-16 -1.220404e-16      88.349619   \n",
       "std    5.212781e-01  4.822270e-01  4.036325e-01  3.300833e-01     250.120109   \n",
       "min   -1.029540e+01 -2.604551e+00 -2.256568e+01 -1.543008e+01       0.000000   \n",
       "25%   -3.171451e-01 -3.269839e-01 -7.083953e-02 -5.295979e-02       5.600000   \n",
       "50%    1.659350e-02 -5.213911e-02  1.342146e-03  1.124383e-02      22.000000   \n",
       "75%    3.507156e-01  2.409522e-01  9.104512e-02  7.827995e-02      77.165000   \n",
       "max    7.519589e+00  3.517346e+00  3.161220e+01  3.384781e+01   25691.160000   \n",
       "\n",
       "               Class  \n",
       "count  284807.000000  \n",
       "mean        0.001727  \n",
       "std         0.041527  \n",
       "min         0.000000  \n",
       "25%         0.000000  \n",
       "50%         0.000000  \n",
       "75%         0.000000  \n",
       "max         1.000000  \n",
       "\n",
       "[8 rows x 31 columns]"
      ]
     },
     "execution_count": 7,
     "metadata": {},
     "output_type": "execute_result"
    }
   ],
   "source": [
    "df.describe()"
   ]
  },
  {
   "cell_type": "markdown",
   "metadata": {},
   "source": [
    "여기서 알 수 있는 정보는 다음과 같다.\n",
    "- Time 과 Amount는 Vn데이터들에 비해 분산이 매우 크다.\n",
    "- Vn으로 표시된 데이터들은 평균이 모두 0이다.\n",
    "- Class의 1은 전체 데이터에서 0.17% 정도 밖에 안된다."
   ]
  },
  {
   "cell_type": "markdown",
   "metadata": {},
   "source": [
    "일반적인 경우라고 한다면 Time과 Amount를 비슷한 scale로 맞춰주는 작업을 하고 어떤 이상한 값, 예컨데 굉장히 크거나 작은 값, 등을 제거할지 말지 따져보거나 resample 과정을 거치거나 하는 작업을 해 줄 것이다. 하지만 원 문서의 작성자는 이 데이터에서 Time 만을 제외하고 그냥 AutoEncoder에 때려 넣어 버린다. 그런데 이 부분은 조금 실수라고 보이는게 제외해야하는 열은 Class이기 때문이다. 원작자는 iloc을 사용했는데 내가 iloc을 잘 안쓰는 이유가 여기에 있다. 나는 Class를 버리고 학습을 시켜보도록 하겠다.  \n",
    "우선 anomaly detecting을 위해서는 모델이 normal data의 manifold를 완전하게 학습해야한다. 여기서는 압도적인 수의 데이터가 Class == 0 이기 때문에 사기가 아닌 데이터들의 manifold를 학습하도록 해준다. 그리고 검증을 위해서 Class == 1 인 데이터의 수 만큼의 undersample을 구해서 검증해주도록 하자."
   ]
  },
  {
   "cell_type": "code",
   "execution_count": 8,
   "metadata": {},
   "outputs": [
    {
     "name": "stdout",
     "output_type": "stream",
     "text": [
      "284315 492\n"
     ]
    }
   ],
   "source": [
    "no_fraud = df[df[\"Class\"] == 0]\n",
    "fraud = df[df[\"Class\"] == 1]\n",
    "\n",
    "print(len(no_fraud), len(fraud))"
   ]
  },
  {
   "cell_type": "code",
   "execution_count": 9,
   "metadata": {},
   "outputs": [
    {
     "name": "stdout",
     "output_type": "stream",
     "text": [
      "283823 492\n"
     ]
    }
   ],
   "source": [
    "val_no_fraud = no_fraud.sample(len(fraud))\n",
    "no_fraud = no_fraud.drop(val_no_fraud.index)\n",
    "\n",
    "print(len(no_fraud), len(val_no_fraud))"
   ]
  },
  {
   "cell_type": "code",
   "execution_count": 10,
   "metadata": {},
   "outputs": [
    {
     "data": {
      "text/html": [
       "<div>\n",
       "<style scoped>\n",
       "    .dataframe tbody tr th:only-of-type {\n",
       "        vertical-align: middle;\n",
       "    }\n",
       "\n",
       "    .dataframe tbody tr th {\n",
       "        vertical-align: top;\n",
       "    }\n",
       "\n",
       "    .dataframe thead th {\n",
       "        text-align: right;\n",
       "    }\n",
       "</style>\n",
       "<table border=\"1\" class=\"dataframe\">\n",
       "  <thead>\n",
       "    <tr style=\"text-align: right;\">\n",
       "      <th></th>\n",
       "      <th>Time</th>\n",
       "      <th>V1</th>\n",
       "      <th>V2</th>\n",
       "      <th>V3</th>\n",
       "      <th>V4</th>\n",
       "      <th>V5</th>\n",
       "      <th>V6</th>\n",
       "      <th>V7</th>\n",
       "      <th>V8</th>\n",
       "      <th>V9</th>\n",
       "      <th>...</th>\n",
       "      <th>V21</th>\n",
       "      <th>V22</th>\n",
       "      <th>V23</th>\n",
       "      <th>V24</th>\n",
       "      <th>V25</th>\n",
       "      <th>V26</th>\n",
       "      <th>V27</th>\n",
       "      <th>V28</th>\n",
       "      <th>Amount</th>\n",
       "      <th>Class</th>\n",
       "    </tr>\n",
       "  </thead>\n",
       "  <tbody>\n",
       "    <tr>\n",
       "      <th>56116</th>\n",
       "      <td>47277.0</td>\n",
       "      <td>-3.252003</td>\n",
       "      <td>-3.532797</td>\n",
       "      <td>0.871696</td>\n",
       "      <td>2.174637</td>\n",
       "      <td>2.138990</td>\n",
       "      <td>-1.381614</td>\n",
       "      <td>-0.078863</td>\n",
       "      <td>-0.054862</td>\n",
       "      <td>-0.088663</td>\n",
       "      <td>...</td>\n",
       "      <td>0.008449</td>\n",
       "      <td>1.277569</td>\n",
       "      <td>3.387570</td>\n",
       "      <td>0.130370</td>\n",
       "      <td>-0.487031</td>\n",
       "      <td>-0.315806</td>\n",
       "      <td>0.509318</td>\n",
       "      <td>-0.364241</td>\n",
       "      <td>82.52</td>\n",
       "      <td>0</td>\n",
       "    </tr>\n",
       "    <tr>\n",
       "      <th>208597</th>\n",
       "      <td>137190.0</td>\n",
       "      <td>1.852831</td>\n",
       "      <td>-1.196914</td>\n",
       "      <td>-0.598625</td>\n",
       "      <td>-0.761814</td>\n",
       "      <td>-0.894869</td>\n",
       "      <td>-0.022569</td>\n",
       "      <td>-0.855861</td>\n",
       "      <td>0.088688</td>\n",
       "      <td>2.105732</td>\n",
       "      <td>...</td>\n",
       "      <td>-0.005906</td>\n",
       "      <td>-0.072495</td>\n",
       "      <td>0.098256</td>\n",
       "      <td>-1.031017</td>\n",
       "      <td>-0.517607</td>\n",
       "      <td>0.582690</td>\n",
       "      <td>-0.037713</td>\n",
       "      <td>-0.034977</td>\n",
       "      <td>122.68</td>\n",
       "      <td>0</td>\n",
       "    </tr>\n",
       "    <tr>\n",
       "      <th>108980</th>\n",
       "      <td>71162.0</td>\n",
       "      <td>1.398061</td>\n",
       "      <td>-1.080751</td>\n",
       "      <td>0.808499</td>\n",
       "      <td>-1.295701</td>\n",
       "      <td>-1.695448</td>\n",
       "      <td>-0.621343</td>\n",
       "      <td>-1.114116</td>\n",
       "      <td>-0.069780</td>\n",
       "      <td>-1.785930</td>\n",
       "      <td>...</td>\n",
       "      <td>-0.306512</td>\n",
       "      <td>-0.537256</td>\n",
       "      <td>0.230660</td>\n",
       "      <td>0.358823</td>\n",
       "      <td>0.011981</td>\n",
       "      <td>-0.403387</td>\n",
       "      <td>0.056954</td>\n",
       "      <td>0.033496</td>\n",
       "      <td>33.00</td>\n",
       "      <td>0</td>\n",
       "    </tr>\n",
       "    <tr>\n",
       "      <th>281250</th>\n",
       "      <td>170031.0</td>\n",
       "      <td>-0.844178</td>\n",
       "      <td>1.650760</td>\n",
       "      <td>-1.542955</td>\n",
       "      <td>-0.505270</td>\n",
       "      <td>0.427950</td>\n",
       "      <td>-0.496311</td>\n",
       "      <td>0.376109</td>\n",
       "      <td>0.772779</td>\n",
       "      <td>-0.458977</td>\n",
       "      <td>...</td>\n",
       "      <td>0.352951</td>\n",
       "      <td>0.903308</td>\n",
       "      <td>-0.247697</td>\n",
       "      <td>-1.131456</td>\n",
       "      <td>-0.304274</td>\n",
       "      <td>-0.104345</td>\n",
       "      <td>0.095053</td>\n",
       "      <td>0.149414</td>\n",
       "      <td>40.50</td>\n",
       "      <td>0</td>\n",
       "    </tr>\n",
       "    <tr>\n",
       "      <th>43808</th>\n",
       "      <td>41660.0</td>\n",
       "      <td>0.633407</td>\n",
       "      <td>-1.236188</td>\n",
       "      <td>0.868334</td>\n",
       "      <td>0.387877</td>\n",
       "      <td>-1.022153</td>\n",
       "      <td>0.981145</td>\n",
       "      <td>-0.637737</td>\n",
       "      <td>0.457291</td>\n",
       "      <td>0.922759</td>\n",
       "      <td>...</td>\n",
       "      <td>0.007049</td>\n",
       "      <td>-0.234539</td>\n",
       "      <td>-0.066256</td>\n",
       "      <td>-0.220000</td>\n",
       "      <td>-0.140257</td>\n",
       "      <td>0.930089</td>\n",
       "      <td>-0.048764</td>\n",
       "      <td>0.036770</td>\n",
       "      <td>236.72</td>\n",
       "      <td>0</td>\n",
       "    </tr>\n",
       "    <tr>\n",
       "      <th>...</th>\n",
       "      <td>...</td>\n",
       "      <td>...</td>\n",
       "      <td>...</td>\n",
       "      <td>...</td>\n",
       "      <td>...</td>\n",
       "      <td>...</td>\n",
       "      <td>...</td>\n",
       "      <td>...</td>\n",
       "      <td>...</td>\n",
       "      <td>...</td>\n",
       "      <td>...</td>\n",
       "      <td>...</td>\n",
       "      <td>...</td>\n",
       "      <td>...</td>\n",
       "      <td>...</td>\n",
       "      <td>...</td>\n",
       "      <td>...</td>\n",
       "      <td>...</td>\n",
       "      <td>...</td>\n",
       "      <td>...</td>\n",
       "      <td>...</td>\n",
       "    </tr>\n",
       "    <tr>\n",
       "      <th>279863</th>\n",
       "      <td>169142.0</td>\n",
       "      <td>-1.927883</td>\n",
       "      <td>1.125653</td>\n",
       "      <td>-4.518331</td>\n",
       "      <td>1.749293</td>\n",
       "      <td>-1.566487</td>\n",
       "      <td>-2.010494</td>\n",
       "      <td>-0.882850</td>\n",
       "      <td>0.697211</td>\n",
       "      <td>-2.064945</td>\n",
       "      <td>...</td>\n",
       "      <td>0.778584</td>\n",
       "      <td>-0.319189</td>\n",
       "      <td>0.639419</td>\n",
       "      <td>-0.294885</td>\n",
       "      <td>0.537503</td>\n",
       "      <td>0.788395</td>\n",
       "      <td>0.292680</td>\n",
       "      <td>0.147968</td>\n",
       "      <td>390.00</td>\n",
       "      <td>1</td>\n",
       "    </tr>\n",
       "    <tr>\n",
       "      <th>280143</th>\n",
       "      <td>169347.0</td>\n",
       "      <td>1.378559</td>\n",
       "      <td>1.289381</td>\n",
       "      <td>-5.004247</td>\n",
       "      <td>1.411850</td>\n",
       "      <td>0.442581</td>\n",
       "      <td>-1.326536</td>\n",
       "      <td>-1.413170</td>\n",
       "      <td>0.248525</td>\n",
       "      <td>-1.127396</td>\n",
       "      <td>...</td>\n",
       "      <td>0.370612</td>\n",
       "      <td>0.028234</td>\n",
       "      <td>-0.145640</td>\n",
       "      <td>-0.081049</td>\n",
       "      <td>0.521875</td>\n",
       "      <td>0.739467</td>\n",
       "      <td>0.389152</td>\n",
       "      <td>0.186637</td>\n",
       "      <td>0.76</td>\n",
       "      <td>1</td>\n",
       "    </tr>\n",
       "    <tr>\n",
       "      <th>280149</th>\n",
       "      <td>169351.0</td>\n",
       "      <td>-0.676143</td>\n",
       "      <td>1.126366</td>\n",
       "      <td>-2.213700</td>\n",
       "      <td>0.468308</td>\n",
       "      <td>-1.120541</td>\n",
       "      <td>-0.003346</td>\n",
       "      <td>-2.234739</td>\n",
       "      <td>1.210158</td>\n",
       "      <td>-0.652250</td>\n",
       "      <td>...</td>\n",
       "      <td>0.751826</td>\n",
       "      <td>0.834108</td>\n",
       "      <td>0.190944</td>\n",
       "      <td>0.032070</td>\n",
       "      <td>-0.739695</td>\n",
       "      <td>0.471111</td>\n",
       "      <td>0.385107</td>\n",
       "      <td>0.194361</td>\n",
       "      <td>77.89</td>\n",
       "      <td>1</td>\n",
       "    </tr>\n",
       "    <tr>\n",
       "      <th>281144</th>\n",
       "      <td>169966.0</td>\n",
       "      <td>-3.113832</td>\n",
       "      <td>0.585864</td>\n",
       "      <td>-5.399730</td>\n",
       "      <td>1.817092</td>\n",
       "      <td>-0.840618</td>\n",
       "      <td>-2.943548</td>\n",
       "      <td>-2.208002</td>\n",
       "      <td>1.058733</td>\n",
       "      <td>-1.632333</td>\n",
       "      <td>...</td>\n",
       "      <td>0.583276</td>\n",
       "      <td>-0.269209</td>\n",
       "      <td>-0.456108</td>\n",
       "      <td>-0.183659</td>\n",
       "      <td>-0.328168</td>\n",
       "      <td>0.606116</td>\n",
       "      <td>0.884876</td>\n",
       "      <td>-0.253700</td>\n",
       "      <td>245.00</td>\n",
       "      <td>1</td>\n",
       "    </tr>\n",
       "    <tr>\n",
       "      <th>281674</th>\n",
       "      <td>170348.0</td>\n",
       "      <td>1.991976</td>\n",
       "      <td>0.158476</td>\n",
       "      <td>-2.583441</td>\n",
       "      <td>0.408670</td>\n",
       "      <td>1.151147</td>\n",
       "      <td>-0.096695</td>\n",
       "      <td>0.223050</td>\n",
       "      <td>-0.068384</td>\n",
       "      <td>0.577829</td>\n",
       "      <td>...</td>\n",
       "      <td>-0.164350</td>\n",
       "      <td>-0.295135</td>\n",
       "      <td>-0.072173</td>\n",
       "      <td>-0.450261</td>\n",
       "      <td>0.313267</td>\n",
       "      <td>-0.289617</td>\n",
       "      <td>0.002988</td>\n",
       "      <td>-0.015309</td>\n",
       "      <td>42.53</td>\n",
       "      <td>1</td>\n",
       "    </tr>\n",
       "  </tbody>\n",
       "</table>\n",
       "<p>984 rows × 31 columns</p>\n",
       "</div>"
      ],
      "text/plain": [
       "            Time        V1        V2        V3        V4        V5        V6  \\\n",
       "56116    47277.0 -3.252003 -3.532797  0.871696  2.174637  2.138990 -1.381614   \n",
       "208597  137190.0  1.852831 -1.196914 -0.598625 -0.761814 -0.894869 -0.022569   \n",
       "108980   71162.0  1.398061 -1.080751  0.808499 -1.295701 -1.695448 -0.621343   \n",
       "281250  170031.0 -0.844178  1.650760 -1.542955 -0.505270  0.427950 -0.496311   \n",
       "43808    41660.0  0.633407 -1.236188  0.868334  0.387877 -1.022153  0.981145   \n",
       "...          ...       ...       ...       ...       ...       ...       ...   \n",
       "279863  169142.0 -1.927883  1.125653 -4.518331  1.749293 -1.566487 -2.010494   \n",
       "280143  169347.0  1.378559  1.289381 -5.004247  1.411850  0.442581 -1.326536   \n",
       "280149  169351.0 -0.676143  1.126366 -2.213700  0.468308 -1.120541 -0.003346   \n",
       "281144  169966.0 -3.113832  0.585864 -5.399730  1.817092 -0.840618 -2.943548   \n",
       "281674  170348.0  1.991976  0.158476 -2.583441  0.408670  1.151147 -0.096695   \n",
       "\n",
       "              V7        V8        V9  ...       V21       V22       V23  \\\n",
       "56116  -0.078863 -0.054862 -0.088663  ...  0.008449  1.277569  3.387570   \n",
       "208597 -0.855861  0.088688  2.105732  ... -0.005906 -0.072495  0.098256   \n",
       "108980 -1.114116 -0.069780 -1.785930  ... -0.306512 -0.537256  0.230660   \n",
       "281250  0.376109  0.772779 -0.458977  ...  0.352951  0.903308 -0.247697   \n",
       "43808  -0.637737  0.457291  0.922759  ...  0.007049 -0.234539 -0.066256   \n",
       "...          ...       ...       ...  ...       ...       ...       ...   \n",
       "279863 -0.882850  0.697211 -2.064945  ...  0.778584 -0.319189  0.639419   \n",
       "280143 -1.413170  0.248525 -1.127396  ...  0.370612  0.028234 -0.145640   \n",
       "280149 -2.234739  1.210158 -0.652250  ...  0.751826  0.834108  0.190944   \n",
       "281144 -2.208002  1.058733 -1.632333  ...  0.583276 -0.269209 -0.456108   \n",
       "281674  0.223050 -0.068384  0.577829  ... -0.164350 -0.295135 -0.072173   \n",
       "\n",
       "             V24       V25       V26       V27       V28  Amount  Class  \n",
       "56116   0.130370 -0.487031 -0.315806  0.509318 -0.364241   82.52      0  \n",
       "208597 -1.031017 -0.517607  0.582690 -0.037713 -0.034977  122.68      0  \n",
       "108980  0.358823  0.011981 -0.403387  0.056954  0.033496   33.00      0  \n",
       "281250 -1.131456 -0.304274 -0.104345  0.095053  0.149414   40.50      0  \n",
       "43808  -0.220000 -0.140257  0.930089 -0.048764  0.036770  236.72      0  \n",
       "...          ...       ...       ...       ...       ...     ...    ...  \n",
       "279863 -0.294885  0.537503  0.788395  0.292680  0.147968  390.00      1  \n",
       "280143 -0.081049  0.521875  0.739467  0.389152  0.186637    0.76      1  \n",
       "280149  0.032070 -0.739695  0.471111  0.385107  0.194361   77.89      1  \n",
       "281144 -0.183659 -0.328168  0.606116  0.884876 -0.253700  245.00      1  \n",
       "281674 -0.450261  0.313267 -0.289617  0.002988 -0.015309   42.53      1  \n",
       "\n",
       "[984 rows x 31 columns]"
      ]
     },
     "execution_count": 10,
     "metadata": {},
     "output_type": "execute_result"
    }
   ],
   "source": [
    "val_df = pd.concat([val_no_fraud,fraud], axis = 0)\n",
    "val_df"
   ]
  },
  {
   "cell_type": "code",
   "execution_count": 11,
   "metadata": {},
   "outputs": [],
   "source": [
    "# Shuffle\n",
    "val_df = val_df.sample(len(val_df))"
   ]
  },
  {
   "cell_type": "code",
   "execution_count": 12,
   "metadata": {},
   "outputs": [],
   "source": [
    "from sklearn.preprocessing import StandardScaler"
   ]
  },
  {
   "cell_type": "markdown",
   "metadata": {},
   "source": [
    "StandardScaler의 설명을 보면 각 feature에 대한 mean과 std를 구한 후 mean으로 빼고 std로 나누어 준다고 되어있다. Vn 데이터의 경우 std를 1로 맞춰주려는 것이고 Amount의 경우는 둘 다 해주려는 것이다."
   ]
  },
  {
   "cell_type": "code",
   "execution_count": 13,
   "metadata": {},
   "outputs": [],
   "source": [
    "ssc = StandardScaler()"
   ]
  },
  {
   "cell_type": "code",
   "execution_count": 14,
   "metadata": {},
   "outputs": [
    {
     "name": "stdout",
     "output_type": "stream",
     "text": [
      "(284807, 31)\n",
      "(283823, 30)\n",
      "[-1.99728755 -0.70889603 -0.04059462  1.72937943  0.99032468 -0.25334831\n",
      "  0.34573969  0.19513304  0.08582861  0.32975513  0.07754832 -0.54343669\n",
      " -0.66460364 -0.99644675 -0.36027672  1.60440969 -0.56539376  0.2621408\n",
      "  0.02652165  0.49902899  0.32739366 -0.02385521  0.3840073  -0.17783659\n",
      "  0.11003306  0.2469814  -0.39191175  0.33484615 -0.06343469  0.24507324]\n"
     ]
    }
   ],
   "source": [
    "# 원 문서에서는 iloc을 이용하지만 여기서는 내가 더 선호하는 방식으로 바꿔서 작성했다.\n",
    "X = no_fraud.drop(\"Class\",axis = 1)\n",
    "X = ssc.fit_transform(X)\n",
    "print(df.shape)\n",
    "print(X.shape)\n",
    "print(X[0])"
   ]
  },
  {
   "cell_type": "markdown",
   "metadata": {},
   "source": [
    "이렇게 30개의 feature로 구성된 데이터들이 완성되었다. 이제 이 녀석을 self-supervised learning으로 학습하여 확실히 majority 가 있는 패턴을 복원하도록 훈련할 것이다. 지금은 Vn으로 라벨이 가려진 Feature에 대해서 한정적인 접근밖에 할 수 없으므로 일반적인 통계를 이용하는 것보다 훨씬 쉽게 문제를 풀 수 있는 장점이 있다."
   ]
  },
  {
   "cell_type": "code",
   "execution_count": 15,
   "metadata": {},
   "outputs": [],
   "source": [
    "num_of_feature = X.shape[1]\n",
    "\n",
    "input_tensor = Input( [num_of_feature] )\n",
    "x = Dense(64, activation = 'relu')(input_tensor)\n",
    "x = Dense(32, activation = 'relu')(x)\n",
    "x = Dense(64, activation = 'relu')(x)\n",
    "output_tensor = Dense(num_of_feature)(x)\n",
    "\n",
    "AutoEncoder = Model(input_tensor, output_tensor)"
   ]
  },
  {
   "cell_type": "code",
   "execution_count": 16,
   "metadata": {},
   "outputs": [
    {
     "name": "stdout",
     "output_type": "stream",
     "text": [
      "Model: \"model\"\n",
      "_________________________________________________________________\n",
      "Layer (type)                 Output Shape              Param #   \n",
      "=================================================================\n",
      "input_1 (InputLayer)         [(None, 30)]              0         \n",
      "_________________________________________________________________\n",
      "dense (Dense)                (None, 64)                1984      \n",
      "_________________________________________________________________\n",
      "dense_1 (Dense)              (None, 32)                2080      \n",
      "_________________________________________________________________\n",
      "dense_2 (Dense)              (None, 64)                2112      \n",
      "_________________________________________________________________\n",
      "dense_3 (Dense)              (None, 30)                1950      \n",
      "=================================================================\n",
      "Total params: 8,126\n",
      "Trainable params: 8,126\n",
      "Non-trainable params: 0\n",
      "_________________________________________________________________\n"
     ]
    }
   ],
   "source": [
    "# 원작자는 adam을 따로 호출해 준 것을 볼 수 있는데 \n",
    "# 아마 learning rate을 조절하기 위함인듯 하다.\n",
    "# 여기서는 좀 더 쉽게 그냥 가본다.\n",
    "#adam = tf.keras.optimizers.Adam(learning_rate=0.0005)\n",
    "AutoEncoder.compile(\n",
    "    optimizer = 'adam',\n",
    "    loss = 'mse',\n",
    "    metrics = ['mse'], # 원 문서에서는 accuracy를 사용한다. 하지만 후처리를 해주지 않았기 때문에 acc는 아무 의미가 없다.\n",
    ")\n",
    "AutoEncoder.summary()"
   ]
  },
  {
   "cell_type": "code",
   "execution_count": 17,
   "metadata": {},
   "outputs": [],
   "source": [
    "callback = tf.keras.callbacks.EarlyStopping(\n",
    "    monitor='val_loss',\n",
    "    min_delta=0,\n",
    "    patience=10,\n",
    "    verbose=0,\n",
    "    mode='auto',\n",
    "    baseline=None,\n",
    "    restore_best_weights=True,\n",
    ")"
   ]
  },
  {
   "cell_type": "code",
   "execution_count": 18,
   "metadata": {
    "scrolled": true
   },
   "outputs": [
    {
     "name": "stdout",
     "output_type": "stream",
     "text": [
      "Epoch 1/200\n",
      "125/125 [==============================] - 1s 3ms/step - loss: 0.8347 - mse: 0.8347 - val_loss: 0.2771 - val_mse: 0.2771\n",
      "Epoch 2/200\n",
      "125/125 [==============================] - 0s 1ms/step - loss: 0.1755 - mse: 0.1755 - val_loss: 0.0871 - val_mse: 0.0871\n",
      "Epoch 3/200\n",
      "125/125 [==============================] - 0s 1ms/step - loss: 0.0656 - mse: 0.0656 - val_loss: 0.0548 - val_mse: 0.0548\n",
      "Epoch 4/200\n",
      "125/125 [==============================] - 0s 1ms/step - loss: 0.0418 - mse: 0.0418 - val_loss: 0.0327 - val_mse: 0.0327\n",
      "Epoch 5/200\n",
      "125/125 [==============================] - 0s 1ms/step - loss: 0.0251 - mse: 0.0251 - val_loss: 0.0223 - val_mse: 0.0223\n",
      "Epoch 6/200\n",
      "125/125 [==============================] - 0s 1ms/step - loss: 0.0168 - mse: 0.0168 - val_loss: 0.0158 - val_mse: 0.0158\n",
      "Epoch 7/200\n",
      "125/125 [==============================] - 0s 1ms/step - loss: 0.0113 - mse: 0.0113 - val_loss: 0.0107 - val_mse: 0.0107\n",
      "Epoch 8/200\n",
      "125/125 [==============================] - 0s 1ms/step - loss: 0.0076 - mse: 0.0076 - val_loss: 0.0073 - val_mse: 0.0073\n",
      "Epoch 9/200\n",
      "125/125 [==============================] - 0s 1ms/step - loss: 0.0052 - mse: 0.0052 - val_loss: 0.0051 - val_mse: 0.0051\n",
      "Epoch 10/200\n",
      "125/125 [==============================] - 0s 1ms/step - loss: 0.0039 - mse: 0.0039 - val_loss: 0.0037 - val_mse: 0.0037\n",
      "Epoch 11/200\n",
      "125/125 [==============================] - 0s 1ms/step - loss: 0.0028 - mse: 0.0028 - val_loss: 0.0038 - val_mse: 0.0038\n",
      "Epoch 12/200\n",
      "125/125 [==============================] - 0s 1ms/step - loss: 0.0022 - mse: 0.0022 - val_loss: 0.0021 - val_mse: 0.0021\n",
      "Epoch 13/200\n",
      "125/125 [==============================] - 0s 1ms/step - loss: 0.0016 - mse: 0.0016 - val_loss: 0.0016 - val_mse: 0.0016\n",
      "Epoch 14/200\n",
      "125/125 [==============================] - 0s 2ms/step - loss: 0.0012 - mse: 0.0012 - val_loss: 0.0010 - val_mse: 0.0010\n",
      "Epoch 15/200\n",
      "125/125 [==============================] - 0s 2ms/step - loss: 7.5066e-04 - mse: 7.5066e-04 - val_loss: 7.4605e-04 - val_mse: 7.4605e-04\n",
      "Epoch 16/200\n",
      "125/125 [==============================] - 0s 1ms/step - loss: 5.2128e-04 - mse: 5.2128e-04 - val_loss: 5.6161e-04 - val_mse: 5.6161e-04\n",
      "Epoch 17/200\n",
      "125/125 [==============================] - 0s 1ms/step - loss: 4.0961e-04 - mse: 4.0961e-04 - val_loss: 4.3423e-04 - val_mse: 4.3423e-04\n",
      "Epoch 18/200\n",
      "125/125 [==============================] - 0s 1ms/step - loss: 4.0198e-04 - mse: 4.0198e-04 - val_loss: 3.9518e-04 - val_mse: 3.9518e-04\n",
      "Epoch 19/200\n",
      "125/125 [==============================] - 0s 1ms/step - loss: 3.5158e-04 - mse: 3.5158e-04 - val_loss: 4.0864e-04 - val_mse: 4.0864e-04\n",
      "Epoch 20/200\n",
      "125/125 [==============================] - 0s 1ms/step - loss: 3.4329e-04 - mse: 3.4329e-04 - val_loss: 3.8960e-04 - val_mse: 3.8960e-04\n",
      "Epoch 21/200\n",
      "125/125 [==============================] - 0s 2ms/step - loss: 3.1409e-04 - mse: 3.1409e-04 - val_loss: 3.9018e-04 - val_mse: 3.9018e-04\n",
      "Epoch 22/200\n",
      "125/125 [==============================] - 0s 1ms/step - loss: 2.9183e-04 - mse: 2.9183e-04 - val_loss: 3.1608e-04 - val_mse: 3.1608e-04\n",
      "Epoch 23/200\n",
      "125/125 [==============================] - 0s 1ms/step - loss: 2.6178e-04 - mse: 2.6178e-04 - val_loss: 3.7136e-04 - val_mse: 3.7136e-04\n",
      "Epoch 24/200\n",
      "125/125 [==============================] - 0s 2ms/step - loss: 2.9250e-04 - mse: 2.9250e-04 - val_loss: 7.8578e-04 - val_mse: 7.8578e-04\n",
      "Epoch 25/200\n",
      "125/125 [==============================] - 0s 1ms/step - loss: 2.9176e-04 - mse: 2.9176e-04 - val_loss: 2.5290e-04 - val_mse: 2.5290e-04\n",
      "Epoch 26/200\n",
      "125/125 [==============================] - 0s 1ms/step - loss: 1.8632e-04 - mse: 1.8632e-04 - val_loss: 3.4121e-04 - val_mse: 3.4121e-04\n",
      "Epoch 27/200\n",
      "125/125 [==============================] - 0s 1ms/step - loss: 2.7777e-04 - mse: 2.7777e-04 - val_loss: 3.8590e-04 - val_mse: 3.8590e-04\n",
      "Epoch 28/200\n",
      "125/125 [==============================] - 0s 1ms/step - loss: 2.6282e-04 - mse: 2.6282e-04 - val_loss: 2.0986e-04 - val_mse: 2.0986e-04\n",
      "Epoch 29/200\n",
      "125/125 [==============================] - 0s 1ms/step - loss: 1.6018e-04 - mse: 1.6018e-04 - val_loss: 2.2558e-04 - val_mse: 2.2558e-04\n",
      "Epoch 30/200\n",
      "125/125 [==============================] - 0s 1ms/step - loss: 2.2728e-04 - mse: 2.2728e-04 - val_loss: 3.1071e-04 - val_mse: 3.1071e-04\n",
      "Epoch 31/200\n",
      "125/125 [==============================] - 0s 1ms/step - loss: 3.7436e-04 - mse: 3.7436e-04 - val_loss: 2.3086e-04 - val_mse: 2.3086e-04\n",
      "Epoch 32/200\n",
      "125/125 [==============================] - 0s 1ms/step - loss: 2.2225e-04 - mse: 2.2225e-04 - val_loss: 4.0197e-04 - val_mse: 4.0197e-04\n",
      "Epoch 33/200\n",
      "125/125 [==============================] - 0s 2ms/step - loss: 2.0678e-04 - mse: 2.0678e-04 - val_loss: 2.4017e-04 - val_mse: 2.4017e-04\n",
      "Epoch 34/200\n",
      "125/125 [==============================] - 0s 1ms/step - loss: 2.0016e-04 - mse: 2.0016e-04 - val_loss: 2.4485e-04 - val_mse: 2.4485e-04\n",
      "Epoch 35/200\n",
      "125/125 [==============================] - 0s 1ms/step - loss: 2.6347e-04 - mse: 2.6347e-04 - val_loss: 1.6384e-04 - val_mse: 1.6384e-04\n",
      "Epoch 36/200\n",
      "125/125 [==============================] - 0s 1ms/step - loss: 1.3325e-04 - mse: 1.3325e-04 - val_loss: 3.1779e-04 - val_mse: 3.1779e-04\n",
      "Epoch 37/200\n",
      "125/125 [==============================] - 0s 1ms/step - loss: 1.9849e-04 - mse: 1.9849e-04 - val_loss: 4.0872e-04 - val_mse: 4.0872e-04\n",
      "Epoch 38/200\n",
      "125/125 [==============================] - 0s 1ms/step - loss: 2.2416e-04 - mse: 2.2416e-04 - val_loss: 3.1966e-04 - val_mse: 3.1966e-04\n",
      "Epoch 39/200\n",
      "125/125 [==============================] - 0s 2ms/step - loss: 2.9053e-04 - mse: 2.9053e-04 - val_loss: 1.4362e-04 - val_mse: 1.4362e-04\n",
      "Epoch 40/200\n",
      "125/125 [==============================] - 0s 1ms/step - loss: 1.5638e-04 - mse: 1.5638e-04 - val_loss: 2.3802e-04 - val_mse: 2.3802e-04\n",
      "Epoch 41/200\n",
      "125/125 [==============================] - 0s 1ms/step - loss: 2.6268e-04 - mse: 2.6268e-04 - val_loss: 2.1187e-04 - val_mse: 2.1187e-04\n",
      "Epoch 42/200\n",
      "125/125 [==============================] - 0s 1ms/step - loss: 2.3608e-04 - mse: 2.3608e-04 - val_loss: 1.8367e-04 - val_mse: 1.8367e-04\n",
      "Epoch 43/200\n",
      "125/125 [==============================] - 0s 1ms/step - loss: 1.4892e-04 - mse: 1.4892e-04 - val_loss: 2.2169e-04 - val_mse: 2.2169e-04\n",
      "Epoch 44/200\n",
      "125/125 [==============================] - 0s 1ms/step - loss: 1.5254e-04 - mse: 1.5254e-04 - val_loss: 2.7850e-04 - val_mse: 2.7850e-04\n",
      "Epoch 45/200\n",
      "125/125 [==============================] - 0s 1ms/step - loss: 1.9204e-04 - mse: 1.9204e-04 - val_loss: 2.2293e-04 - val_mse: 2.2293e-04\n",
      "Epoch 46/200\n",
      "125/125 [==============================] - 0s 1ms/step - loss: 1.9813e-04 - mse: 1.9813e-04 - val_loss: 1.7784e-04 - val_mse: 1.7784e-04\n",
      "Epoch 47/200\n",
      "125/125 [==============================] - 0s 2ms/step - loss: 1.7179e-04 - mse: 1.7179e-04 - val_loss: 3.6386e-04 - val_mse: 3.6386e-04\n",
      "Epoch 48/200\n",
      "125/125 [==============================] - 0s 1ms/step - loss: 2.0455e-04 - mse: 2.0455e-04 - val_loss: 1.8989e-04 - val_mse: 1.8989e-04\n",
      "Epoch 49/200\n",
      "125/125 [==============================] - 0s 1ms/step - loss: 1.7091e-04 - mse: 1.7091e-04 - val_loss: 2.3940e-04 - val_mse: 2.3940e-04\n"
     ]
    }
   ],
   "source": [
    "training_history = AutoEncoder.fit(\n",
    "    x=X,\n",
    "    y=X,\n",
    "    batch_size=2048, # 원작자는 2064를 썼는데 왜 그렇게 했는지 잘 모르겠다..\n",
    "    epochs=200,\n",
    "    verbose=1,\n",
    "    callbacks=[callback],\n",
    "    validation_split=0.1, # validation data로 10%의 데이터를 추출한다. -> val_loss 측정\n",
    "    shuffle=True,\n",
    ")"
   ]
  },
  {
   "cell_type": "code",
   "execution_count": 19,
   "metadata": {},
   "outputs": [
    {
     "name": "stdout",
     "output_type": "stream",
     "text": [
      "dict_keys(['loss', 'mse', 'val_loss', 'val_mse'])\n"
     ]
    }
   ],
   "source": [
    "print(training_history.history.keys())"
   ]
  },
  {
   "cell_type": "code",
   "execution_count": 20,
   "metadata": {},
   "outputs": [
    {
     "data": {
      "image/png": "[encoded data removed]",
      "text/plain": [
       "<Figure size 1152x432 with 2 Axes>"
      ]
     },
     "metadata": {
      "needs_background": "light"
     },
     "output_type": "display_data"
    }
   ],
   "source": [
    "fig, ax = plt.subplots(1, 2, figsize=[16, 6])\n",
    "\n",
    "ax[0].plot(training_history.history['loss'])\n",
    "ax[0].plot(training_history.history['val_loss'])\n",
    "ax[0].set_title(\"Loss\")\n",
    "ax[0].legend(['loss','val_loss'])\n",
    "\n",
    "zoom_range = 8\n",
    "ax[1].plot(training_history.history['loss'][:zoom_range])\n",
    "ax[1].plot(training_history.history['val_loss'][:zoom_range])\n",
    "ax[1].set_title(\"Loss\")\n",
    "ax[1].legend(['loss','val_loss'])\n",
    "\n",
    "plt.show()"
   ]
  },
  {
   "cell_type": "markdown",
   "metadata": {},
   "source": [
    "3 epoch 만에 수렴한 것을 알 수 있다. 이제 이 모델이 얼마나 majority pattern에 대한 복원력이 강력한지 평가해보자. "
   ]
  },
  {
   "cell_type": "code",
   "execution_count": 21,
   "metadata": {},
   "outputs": [
    {
     "data": {
      "text/plain": [
       "(984, 30)"
      ]
     },
     "execution_count": 21,
     "metadata": {},
     "output_type": "execute_result"
    }
   ],
   "source": [
    "val_X = ssc.transform(val_df.drop(\"Class\", axis = 1))\n",
    "val_X.shape"
   ]
  },
  {
   "cell_type": "code",
   "execution_count": 22,
   "metadata": {},
   "outputs": [
    {
     "data": {
      "text/plain": [
       "(984,)"
      ]
     },
     "execution_count": 22,
     "metadata": {},
     "output_type": "execute_result"
    }
   ],
   "source": [
    "val_prediction = AutoEncoder.predict(val_X)\n",
    "mse = np.mean( (val_prediction - val_X) ** 2 , axis = 1)\n",
    "mse.shape"
   ]
  },
  {
   "cell_type": "code",
   "execution_count": 23,
   "metadata": {},
   "outputs": [
    {
     "data": {
      "text/html": [
       "<div>\n",
       "<style scoped>\n",
       "    .dataframe tbody tr th:only-of-type {\n",
       "        vertical-align: middle;\n",
       "    }\n",
       "\n",
       "    .dataframe tbody tr th {\n",
       "        vertical-align: top;\n",
       "    }\n",
       "\n",
       "    .dataframe thead th {\n",
       "        text-align: right;\n",
       "    }\n",
       "</style>\n",
       "<table border=\"1\" class=\"dataframe\">\n",
       "  <thead>\n",
       "    <tr style=\"text-align: right;\">\n",
       "      <th></th>\n",
       "      <th>mse</th>\n",
       "    </tr>\n",
       "  </thead>\n",
       "  <tbody>\n",
       "    <tr>\n",
       "      <th>0</th>\n",
       "      <td>0.000010</td>\n",
       "    </tr>\n",
       "    <tr>\n",
       "      <th>1</th>\n",
       "      <td>0.271334</td>\n",
       "    </tr>\n",
       "    <tr>\n",
       "      <th>2</th>\n",
       "      <td>0.000070</td>\n",
       "    </tr>\n",
       "    <tr>\n",
       "      <th>3</th>\n",
       "      <td>0.000015</td>\n",
       "    </tr>\n",
       "    <tr>\n",
       "      <th>4</th>\n",
       "      <td>0.000054</td>\n",
       "    </tr>\n",
       "    <tr>\n",
       "      <th>...</th>\n",
       "      <td>...</td>\n",
       "    </tr>\n",
       "    <tr>\n",
       "      <th>979</th>\n",
       "      <td>0.000015</td>\n",
       "    </tr>\n",
       "    <tr>\n",
       "      <th>980</th>\n",
       "      <td>0.000029</td>\n",
       "    </tr>\n",
       "    <tr>\n",
       "      <th>981</th>\n",
       "      <td>0.000014</td>\n",
       "    </tr>\n",
       "    <tr>\n",
       "      <th>982</th>\n",
       "      <td>0.000039</td>\n",
       "    </tr>\n",
       "    <tr>\n",
       "      <th>983</th>\n",
       "      <td>0.456501</td>\n",
       "    </tr>\n",
       "  </tbody>\n",
       "</table>\n",
       "<p>984 rows × 1 columns</p>\n",
       "</div>"
      ],
      "text/plain": [
       "          mse\n",
       "0    0.000010\n",
       "1    0.271334\n",
       "2    0.000070\n",
       "3    0.000015\n",
       "4    0.000054\n",
       "..        ...\n",
       "979  0.000015\n",
       "980  0.000029\n",
       "981  0.000014\n",
       "982  0.000039\n",
       "983  0.456501\n",
       "\n",
       "[984 rows x 1 columns]"
      ]
     },
     "execution_count": 23,
     "metadata": {},
     "output_type": "execute_result"
    }
   ],
   "source": [
    "val_reconst_loss = pd.DataFrame({'mse' : mse})\n",
    "val_reconst_loss"
   ]
  },
  {
   "cell_type": "code",
   "execution_count": 25,
   "metadata": {},
   "outputs": [
    {
     "data": {
      "text/html": [
       "<div>\n",
       "<style scoped>\n",
       "    .dataframe tbody tr th:only-of-type {\n",
       "        vertical-align: middle;\n",
       "    }\n",
       "\n",
       "    .dataframe tbody tr th {\n",
       "        vertical-align: top;\n",
       "    }\n",
       "\n",
       "    .dataframe thead th {\n",
       "        text-align: right;\n",
       "    }\n",
       "</style>\n",
       "<table border=\"1\" class=\"dataframe\">\n",
       "  <thead>\n",
       "    <tr style=\"text-align: right;\">\n",
       "      <th></th>\n",
       "      <th>mse</th>\n",
       "    </tr>\n",
       "  </thead>\n",
       "  <tbody>\n",
       "    <tr>\n",
       "      <th>count</th>\n",
       "      <td>984.000000</td>\n",
       "    </tr>\n",
       "    <tr>\n",
       "      <th>mean</th>\n",
       "      <td>0.312107</td>\n",
       "    </tr>\n",
       "    <tr>\n",
       "      <th>std</th>\n",
       "      <td>1.085730</td>\n",
       "    </tr>\n",
       "    <tr>\n",
       "      <th>min</th>\n",
       "      <td>0.000008</td>\n",
       "    </tr>\n",
       "    <tr>\n",
       "      <th>25%</th>\n",
       "      <td>0.000023</td>\n",
       "    </tr>\n",
       "    <tr>\n",
       "      <th>50%</th>\n",
       "      <td>0.000072</td>\n",
       "    </tr>\n",
       "    <tr>\n",
       "      <th>75%</th>\n",
       "      <td>0.159827</td>\n",
       "    </tr>\n",
       "    <tr>\n",
       "      <th>max</th>\n",
       "      <td>9.171434</td>\n",
       "    </tr>\n",
       "  </tbody>\n",
       "</table>\n",
       "</div>"
      ],
      "text/plain": [
       "              mse\n",
       "count  984.000000\n",
       "mean     0.312107\n",
       "std      1.085730\n",
       "min      0.000008\n",
       "25%      0.000023\n",
       "50%      0.000072\n",
       "75%      0.159827\n",
       "max      9.171434"
      ]
     },
     "execution_count": 25,
     "metadata": {},
     "output_type": "execute_result"
    }
   ],
   "source": [
    "val_reconst_loss.describe()"
   ]
  },
  {
   "cell_type": "code",
   "execution_count": 51,
   "metadata": {},
   "outputs": [
    {
     "data": {
      "image/png": "[encoded data removed]",
      "text/plain": [
       "<Figure size 432x288 with 1 Axes>"
      ]
     },
     "metadata": {
      "needs_background": "light"
     },
     "output_type": "display_data"
    }
   ],
   "source": [
    "vrl = val_reconst_loss[\"mse\"].to_numpy()\n",
    "_bins = 200\n",
    "end = 1\n",
    "hist, bins, _ = plt.hist(\n",
    "    vrl,\n",
    "    bins = _bins,\n",
    "    range = [vrl.min(), 0.02]\n",
    ")\n",
    "plt.show()"
   ]
  },
  {
   "cell_type": "code",
   "execution_count": 52,
   "metadata": {},
   "outputs": [
    {
     "data": {
      "text/plain": [
       "0.0025"
      ]
     },
     "execution_count": 52,
     "metadata": {},
     "output_type": "execute_result"
    }
   ],
   "source": [
    "threshold = 0.0025\n",
    "threshold"
   ]
  },
  {
   "cell_type": "code",
   "execution_count": 53,
   "metadata": {},
   "outputs": [
    {
     "data": {
      "text/html": [
       "<div>\n",
       "<style scoped>\n",
       "    .dataframe tbody tr th:only-of-type {\n",
       "        vertical-align: middle;\n",
       "    }\n",
       "\n",
       "    .dataframe tbody tr th {\n",
       "        vertical-align: top;\n",
       "    }\n",
       "\n",
       "    .dataframe thead th {\n",
       "        text-align: right;\n",
       "    }\n",
       "</style>\n",
       "<table border=\"1\" class=\"dataframe\">\n",
       "  <thead>\n",
       "    <tr style=\"text-align: right;\">\n",
       "      <th></th>\n",
       "      <th>mse</th>\n",
       "      <th>Prediction</th>\n",
       "    </tr>\n",
       "  </thead>\n",
       "  <tbody>\n",
       "    <tr>\n",
       "      <th>0</th>\n",
       "      <td>0.000010</td>\n",
       "      <td>0</td>\n",
       "    </tr>\n",
       "    <tr>\n",
       "      <th>1</th>\n",
       "      <td>0.271334</td>\n",
       "      <td>1</td>\n",
       "    </tr>\n",
       "    <tr>\n",
       "      <th>2</th>\n",
       "      <td>0.000070</td>\n",
       "      <td>0</td>\n",
       "    </tr>\n",
       "    <tr>\n",
       "      <th>3</th>\n",
       "      <td>0.000015</td>\n",
       "      <td>0</td>\n",
       "    </tr>\n",
       "    <tr>\n",
       "      <th>4</th>\n",
       "      <td>0.000054</td>\n",
       "      <td>0</td>\n",
       "    </tr>\n",
       "    <tr>\n",
       "      <th>...</th>\n",
       "      <td>...</td>\n",
       "      <td>...</td>\n",
       "    </tr>\n",
       "    <tr>\n",
       "      <th>979</th>\n",
       "      <td>0.000015</td>\n",
       "      <td>0</td>\n",
       "    </tr>\n",
       "    <tr>\n",
       "      <th>980</th>\n",
       "      <td>0.000029</td>\n",
       "      <td>0</td>\n",
       "    </tr>\n",
       "    <tr>\n",
       "      <th>981</th>\n",
       "      <td>0.000014</td>\n",
       "      <td>0</td>\n",
       "    </tr>\n",
       "    <tr>\n",
       "      <th>982</th>\n",
       "      <td>0.000039</td>\n",
       "      <td>0</td>\n",
       "    </tr>\n",
       "    <tr>\n",
       "      <th>983</th>\n",
       "      <td>0.456501</td>\n",
       "      <td>1</td>\n",
       "    </tr>\n",
       "  </tbody>\n",
       "</table>\n",
       "<p>984 rows × 2 columns</p>\n",
       "</div>"
      ],
      "text/plain": [
       "          mse  Prediction\n",
       "0    0.000010           0\n",
       "1    0.271334           1\n",
       "2    0.000070           0\n",
       "3    0.000015           0\n",
       "4    0.000054           0\n",
       "..        ...         ...\n",
       "979  0.000015           0\n",
       "980  0.000029           0\n",
       "981  0.000014           0\n",
       "982  0.000039           0\n",
       "983  0.456501           1\n",
       "\n",
       "[984 rows x 2 columns]"
      ]
     },
     "execution_count": 53,
     "metadata": {},
     "output_type": "execute_result"
    }
   ],
   "source": [
    "val_reconst_loss[\"Prediction\"] = 1\n",
    "val_reconst_loss.loc[val_reconst_loss[\"mse\"] < threshold, \"Prediction\"] = 0\n",
    "val_reconst_loss"
   ]
  },
  {
   "cell_type": "code",
   "execution_count": 55,
   "metadata": {},
   "outputs": [],
   "source": [
    "from sklearn.metrics import roc_curve, auc, RocCurveDisplay"
   ]
  },
  {
   "cell_type": "code",
   "execution_count": 56,
   "metadata": {},
   "outputs": [
    {
     "name": "stdout",
     "output_type": "stream",
     "text": [
      "True\n"
     ]
    }
   ],
   "source": [
    "y = val_df[\"Class\"].to_numpy()\n",
    "pred = val_reconst_loss[\"Prediction\"].to_numpy()\n",
    "print(y.shape == pred.shape)"
   ]
  },
  {
   "cell_type": "code",
   "execution_count": 57,
   "metadata": {},
   "outputs": [
    {
     "data": {
      "image/png": "[encoded data removed]",
      "text/plain": [
       "<Figure size 432x288 with 1 Axes>"
      ]
     },
     "metadata": {
      "needs_background": "light"
     },
     "output_type": "display_data"
    }
   ],
   "source": [
    "fpr, tpr, thresholds = roc_curve(y, pred)\n",
    "roc_auc = auc(fpr, tpr)\n",
    "display = RocCurveDisplay(fpr=fpr, tpr=tpr, roc_auc=roc_auc,)\n",
    "display.plot()\n",
    "plt.show()"
   ]
  },
  {
   "cell_type": "code",
   "execution_count": 58,
   "metadata": {},
   "outputs": [],
   "source": [
    "from sklearn.metrics import accuracy_score"
   ]
  },
  {
   "cell_type": "code",
   "execution_count": 59,
   "metadata": {},
   "outputs": [
    {
     "data": {
      "text/plain": [
       "0.9065040650406504"
      ]
     },
     "execution_count": 59,
     "metadata": {},
     "output_type": "execute_result"
    }
   ],
   "source": [
    "accuracy_score(y,pred)"
   ]
  },
  {
   "cell_type": "code",
   "execution_count": null,
   "metadata": {},
   "outputs": [],
   "source": []
  }
 ],
 "metadata": {
  "kernelspec": {
   "display_name": "Python 3",
   "language": "python",
   "name": "python3"
  },
  "language_info": {
   "codemirror_mode": {
    "name": "ipython",
    "version": 3
   },
   "file_extension": ".py",
   "mimetype": "text/x-python",
   "name": "python",
   "nbconvert_exporter": "python",
   "pygments_lexer": "ipython3",
   "version": "3.6.9"
  }
 },
 "nbformat": 4,
 "nbformat_minor": 2
}
