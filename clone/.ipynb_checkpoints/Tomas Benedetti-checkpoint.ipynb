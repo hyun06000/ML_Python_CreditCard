{
 "cells": [
  {
   "cell_type": "code",
   "execution_count": 1,
   "metadata": {},
   "outputs": [],
   "source": [
    "%config Completer.use_jedi = False"
   ]
  },
  {
   "cell_type": "markdown",
   "metadata": {},
   "source": [
    "https://www.kaggle.com/nixiam/credit-card-fraud-detection-autoencoder"
   ]
  },
  {
   "cell_type": "markdown",
   "metadata": {},
   "source": [
    "# AutoEncoder : self-supervised learning\n",
    "## for Credit Card Fraud Detection\n",
    "   \n",
    "***Self-supervised learning***  \n",
    "이 노트북은 AutoEncoder을 이용하여 분석했다는 것에 초점을 둔다. 그 중에서도 AutoEncoder를 self-supervised learning 했을때 나타나는 자기복원능력을 다룬다는 사실이 중요하다. 다른 노트북에서는 semi-supervised learning을 통한 저차원 표현에 관해서 다뤄볼 것이다. 원문서의 작성자는 AutoEncoder를 불균형한 데이터 그대로 학습하여 데이터의 특정 패턴을 복원하는 능력은 뛰어나면서 나머지 페턴에 대하여는 원하는 연산을 해낼 수 없는 일종의 abnormal detector로 이용한다. 이 detector는 일정한 페턴의 데이터가 아니면 원본과 아주 다른 형태의 데이터를 제출함으로 residual value의 threshold 를 이용하여 이 데이터가 normal한 페턴을 지녔는지 아닌지 판별할 수 있게 해준다."
   ]
  },
  {
   "cell_type": "code",
   "execution_count": 2,
   "metadata": {},
   "outputs": [
    {
     "name": "stdout",
     "output_type": "stream",
     "text": [
      "2.4.1\n"
     ]
    }
   ],
   "source": [
    "import tensorflow as tf\n",
    "print(tf.__version__)"
   ]
  },
  {
   "cell_type": "markdown",
   "metadata": {},
   "source": [
    "사실 나는 딥러닝을 시작으로 머신러닝에 입문하였고 일반적인 머신러닝의 한계점들을 극복하면서 딥러닝이 등장했다고 알고있었기 때문에 일반적인 데이터 분석에서 딥러닝만 뚝딱하면 원하는 모델이 딱뚝 학습될 것이라고 막연하게 생각하고 있었다. 하지만 캐글에 입문하여 여러 고수 형님들의 코드를 보고 내가 아는 데이터 분석, 머신러닝은 정말 새발의 피 정도 된다는 것을 느꼈다. 심지어 머신러닝은 쓰지도 않고 원하는 모델링을 수학적으로 해내는 사람들도 있었다. 그래서 캐글을 시작하기 전에는 이렇게 간만에 tensorflow를 보게될 줄 몰랐다. 오랜만에 보니 반갑다."
   ]
  },
  {
   "cell_type": "code",
   "execution_count": 3,
   "metadata": {},
   "outputs": [],
   "source": [
    "# 사용 가능한 GPU 찾는 부분은 생략\n",
    "\n",
    "from tensorflow.keras.models import Model\n",
    "from tensorflow.keras.layers import Input, Dense, Dropout"
   ]
  },
  {
   "cell_type": "markdown",
   "metadata": {},
   "source": [
    "Fully connected layer들을 이용해서 병목을 만들고 거기서 표현되는 차원들을 들여다 볼 것이다. 필요한 패키지들을 불러왔다."
   ]
  },
  {
   "cell_type": "code",
   "execution_count": 4,
   "metadata": {},
   "outputs": [],
   "source": [
    "import numpy as np\n",
    "import pandas as pd\n",
    "import matplotlib.pyplot as plt\n",
    "# 여기까지 import 끝"
   ]
  },
  {
   "cell_type": "code",
   "execution_count": 5,
   "metadata": {},
   "outputs": [],
   "source": [
    "df = pd.read_csv('../data/creditcard.csv')\n",
    "\n",
    "# 앞으로는 소수점 아래 4자리까지만 보자.\n",
    "#pd.options.display.float_format = \"{:.4f}\".format"
   ]
  },
  {
   "cell_type": "markdown",
   "metadata": {},
   "source": [
    "좋은거 배웠다. 람다 형식으로 함수 자체를 지정해버리는 스킬인듯 하다. 나중에 더 찾아볼것. 하지만 여기서는 쓰지 않는다."
   ]
  },
  {
   "cell_type": "code",
   "execution_count": 6,
   "metadata": {},
   "outputs": [
    {
     "name": "stdout",
     "output_type": "stream",
     "text": [
      "<class 'pandas.core.frame.DataFrame'>\n",
      "RangeIndex: 284807 entries, 0 to 284806\n",
      "Data columns (total 31 columns):\n",
      " #   Column  Non-Null Count   Dtype  \n",
      "---  ------  --------------   -----  \n",
      " 0   Time    284807 non-null  float64\n",
      " 1   V1      284807 non-null  float64\n",
      " 2   V2      284807 non-null  float64\n",
      " 3   V3      284807 non-null  float64\n",
      " 4   V4      284807 non-null  float64\n",
      " 5   V5      284807 non-null  float64\n",
      " 6   V6      284807 non-null  float64\n",
      " 7   V7      284807 non-null  float64\n",
      " 8   V8      284807 non-null  float64\n",
      " 9   V9      284807 non-null  float64\n",
      " 10  V10     284807 non-null  float64\n",
      " 11  V11     284807 non-null  float64\n",
      " 12  V12     284807 non-null  float64\n",
      " 13  V13     284807 non-null  float64\n",
      " 14  V14     284807 non-null  float64\n",
      " 15  V15     284807 non-null  float64\n",
      " 16  V16     284807 non-null  float64\n",
      " 17  V17     284807 non-null  float64\n",
      " 18  V18     284807 non-null  float64\n",
      " 19  V19     284807 non-null  float64\n",
      " 20  V20     284807 non-null  float64\n",
      " 21  V21     284807 non-null  float64\n",
      " 22  V22     284807 non-null  float64\n",
      " 23  V23     284807 non-null  float64\n",
      " 24  V24     284807 non-null  float64\n",
      " 25  V25     284807 non-null  float64\n",
      " 26  V26     284807 non-null  float64\n",
      " 27  V27     284807 non-null  float64\n",
      " 28  V28     284807 non-null  float64\n",
      " 29  Amount  284807 non-null  float64\n",
      " 30  Class   284807 non-null  int64  \n",
      "dtypes: float64(30), int64(1)\n",
      "memory usage: 67.4 MB\n"
     ]
    }
   ],
   "source": [
    "df.info()"
   ]
  },
  {
   "cell_type": "markdown",
   "metadata": {},
   "source": [
    "여기서 알 수 있는 정보는 다음과 같다.  \n",
    "- null 값이 없는 이상적인 데이터다.  \n",
    "- Class를 제외한 모든 데이터가 float64로 통일되어있다.  \n",
    "- Time과 Amount 를 제외한 모든 데이터가 float64로 통일되어있다.\n",
    "- Vn 으로 표시된 열들은 서로 어떤 관련성이 있는지 유추할 수 있는 정보가 없다."
   ]
  },
  {
   "cell_type": "code",
   "execution_count": 7,
   "metadata": {},
   "outputs": [
    {
     "data": {
      "text/html": [
       "<div>\n",
       "<style scoped>\n",
       "    .dataframe tbody tr th:only-of-type {\n",
       "        vertical-align: middle;\n",
       "    }\n",
       "\n",
       "    .dataframe tbody tr th {\n",
       "        vertical-align: top;\n",
       "    }\n",
       "\n",
       "    .dataframe thead th {\n",
       "        text-align: right;\n",
       "    }\n",
       "</style>\n",
       "<table border=\"1\" class=\"dataframe\">\n",
       "  <thead>\n",
       "    <tr style=\"text-align: right;\">\n",
       "      <th></th>\n",
       "      <th>Time</th>\n",
       "      <th>V1</th>\n",
       "      <th>V2</th>\n",
       "      <th>V3</th>\n",
       "      <th>V4</th>\n",
       "      <th>V5</th>\n",
       "      <th>V6</th>\n",
       "      <th>V7</th>\n",
       "      <th>V8</th>\n",
       "      <th>V9</th>\n",
       "      <th>...</th>\n",
       "      <th>V21</th>\n",
       "      <th>V22</th>\n",
       "      <th>V23</th>\n",
       "      <th>V24</th>\n",
       "      <th>V25</th>\n",
       "      <th>V26</th>\n",
       "      <th>V27</th>\n",
       "      <th>V28</th>\n",
       "      <th>Amount</th>\n",
       "      <th>Class</th>\n",
       "    </tr>\n",
       "  </thead>\n",
       "  <tbody>\n",
       "    <tr>\n",
       "      <th>count</th>\n",
       "      <td>284807.000000</td>\n",
       "      <td>2.848070e+05</td>\n",
       "      <td>2.848070e+05</td>\n",
       "      <td>2.848070e+05</td>\n",
       "      <td>2.848070e+05</td>\n",
       "      <td>2.848070e+05</td>\n",
       "      <td>2.848070e+05</td>\n",
       "      <td>2.848070e+05</td>\n",
       "      <td>2.848070e+05</td>\n",
       "      <td>2.848070e+05</td>\n",
       "      <td>...</td>\n",
       "      <td>2.848070e+05</td>\n",
       "      <td>2.848070e+05</td>\n",
       "      <td>2.848070e+05</td>\n",
       "      <td>2.848070e+05</td>\n",
       "      <td>2.848070e+05</td>\n",
       "      <td>2.848070e+05</td>\n",
       "      <td>2.848070e+05</td>\n",
       "      <td>2.848070e+05</td>\n",
       "      <td>284807.000000</td>\n",
       "      <td>284807.000000</td>\n",
       "    </tr>\n",
       "    <tr>\n",
       "      <th>mean</th>\n",
       "      <td>94813.859575</td>\n",
       "      <td>1.165980e-15</td>\n",
       "      <td>3.416908e-16</td>\n",
       "      <td>-1.373150e-15</td>\n",
       "      <td>2.086869e-15</td>\n",
       "      <td>9.604066e-16</td>\n",
       "      <td>1.490107e-15</td>\n",
       "      <td>-5.556467e-16</td>\n",
       "      <td>1.177556e-16</td>\n",
       "      <td>-2.406455e-15</td>\n",
       "      <td>...</td>\n",
       "      <td>1.656562e-16</td>\n",
       "      <td>-3.444850e-16</td>\n",
       "      <td>2.578648e-16</td>\n",
       "      <td>4.471968e-15</td>\n",
       "      <td>5.340915e-16</td>\n",
       "      <td>1.687098e-15</td>\n",
       "      <td>-3.666453e-16</td>\n",
       "      <td>-1.220404e-16</td>\n",
       "      <td>88.349619</td>\n",
       "      <td>0.001727</td>\n",
       "    </tr>\n",
       "    <tr>\n",
       "      <th>std</th>\n",
       "      <td>47488.145955</td>\n",
       "      <td>1.958696e+00</td>\n",
       "      <td>1.651309e+00</td>\n",
       "      <td>1.516255e+00</td>\n",
       "      <td>1.415869e+00</td>\n",
       "      <td>1.380247e+00</td>\n",
       "      <td>1.332271e+00</td>\n",
       "      <td>1.237094e+00</td>\n",
       "      <td>1.194353e+00</td>\n",
       "      <td>1.098632e+00</td>\n",
       "      <td>...</td>\n",
       "      <td>7.345240e-01</td>\n",
       "      <td>7.257016e-01</td>\n",
       "      <td>6.244603e-01</td>\n",
       "      <td>6.056471e-01</td>\n",
       "      <td>5.212781e-01</td>\n",
       "      <td>4.822270e-01</td>\n",
       "      <td>4.036325e-01</td>\n",
       "      <td>3.300833e-01</td>\n",
       "      <td>250.120109</td>\n",
       "      <td>0.041527</td>\n",
       "    </tr>\n",
       "    <tr>\n",
       "      <th>min</th>\n",
       "      <td>0.000000</td>\n",
       "      <td>-5.640751e+01</td>\n",
       "      <td>-7.271573e+01</td>\n",
       "      <td>-4.832559e+01</td>\n",
       "      <td>-5.683171e+00</td>\n",
       "      <td>-1.137433e+02</td>\n",
       "      <td>-2.616051e+01</td>\n",
       "      <td>-4.355724e+01</td>\n",
       "      <td>-7.321672e+01</td>\n",
       "      <td>-1.343407e+01</td>\n",
       "      <td>...</td>\n",
       "      <td>-3.483038e+01</td>\n",
       "      <td>-1.093314e+01</td>\n",
       "      <td>-4.480774e+01</td>\n",
       "      <td>-2.836627e+00</td>\n",
       "      <td>-1.029540e+01</td>\n",
       "      <td>-2.604551e+00</td>\n",
       "      <td>-2.256568e+01</td>\n",
       "      <td>-1.543008e+01</td>\n",
       "      <td>0.000000</td>\n",
       "      <td>0.000000</td>\n",
       "    </tr>\n",
       "    <tr>\n",
       "      <th>25%</th>\n",
       "      <td>54201.500000</td>\n",
       "      <td>-9.203734e-01</td>\n",
       "      <td>-5.985499e-01</td>\n",
       "      <td>-8.903648e-01</td>\n",
       "      <td>-8.486401e-01</td>\n",
       "      <td>-6.915971e-01</td>\n",
       "      <td>-7.682956e-01</td>\n",
       "      <td>-5.540759e-01</td>\n",
       "      <td>-2.086297e-01</td>\n",
       "      <td>-6.430976e-01</td>\n",
       "      <td>...</td>\n",
       "      <td>-2.283949e-01</td>\n",
       "      <td>-5.423504e-01</td>\n",
       "      <td>-1.618463e-01</td>\n",
       "      <td>-3.545861e-01</td>\n",
       "      <td>-3.171451e-01</td>\n",
       "      <td>-3.269839e-01</td>\n",
       "      <td>-7.083953e-02</td>\n",
       "      <td>-5.295979e-02</td>\n",
       "      <td>5.600000</td>\n",
       "      <td>0.000000</td>\n",
       "    </tr>\n",
       "    <tr>\n",
       "      <th>50%</th>\n",
       "      <td>84692.000000</td>\n",
       "      <td>1.810880e-02</td>\n",
       "      <td>6.548556e-02</td>\n",
       "      <td>1.798463e-01</td>\n",
       "      <td>-1.984653e-02</td>\n",
       "      <td>-5.433583e-02</td>\n",
       "      <td>-2.741871e-01</td>\n",
       "      <td>4.010308e-02</td>\n",
       "      <td>2.235804e-02</td>\n",
       "      <td>-5.142873e-02</td>\n",
       "      <td>...</td>\n",
       "      <td>-2.945017e-02</td>\n",
       "      <td>6.781943e-03</td>\n",
       "      <td>-1.119293e-02</td>\n",
       "      <td>4.097606e-02</td>\n",
       "      <td>1.659350e-02</td>\n",
       "      <td>-5.213911e-02</td>\n",
       "      <td>1.342146e-03</td>\n",
       "      <td>1.124383e-02</td>\n",
       "      <td>22.000000</td>\n",
       "      <td>0.000000</td>\n",
       "    </tr>\n",
       "    <tr>\n",
       "      <th>75%</th>\n",
       "      <td>139320.500000</td>\n",
       "      <td>1.315642e+00</td>\n",
       "      <td>8.037239e-01</td>\n",
       "      <td>1.027196e+00</td>\n",
       "      <td>7.433413e-01</td>\n",
       "      <td>6.119264e-01</td>\n",
       "      <td>3.985649e-01</td>\n",
       "      <td>5.704361e-01</td>\n",
       "      <td>3.273459e-01</td>\n",
       "      <td>5.971390e-01</td>\n",
       "      <td>...</td>\n",
       "      <td>1.863772e-01</td>\n",
       "      <td>5.285536e-01</td>\n",
       "      <td>1.476421e-01</td>\n",
       "      <td>4.395266e-01</td>\n",
       "      <td>3.507156e-01</td>\n",
       "      <td>2.409522e-01</td>\n",
       "      <td>9.104512e-02</td>\n",
       "      <td>7.827995e-02</td>\n",
       "      <td>77.165000</td>\n",
       "      <td>0.000000</td>\n",
       "    </tr>\n",
       "    <tr>\n",
       "      <th>max</th>\n",
       "      <td>172792.000000</td>\n",
       "      <td>2.454930e+00</td>\n",
       "      <td>2.205773e+01</td>\n",
       "      <td>9.382558e+00</td>\n",
       "      <td>1.687534e+01</td>\n",
       "      <td>3.480167e+01</td>\n",
       "      <td>7.330163e+01</td>\n",
       "      <td>1.205895e+02</td>\n",
       "      <td>2.000721e+01</td>\n",
       "      <td>1.559499e+01</td>\n",
       "      <td>...</td>\n",
       "      <td>2.720284e+01</td>\n",
       "      <td>1.050309e+01</td>\n",
       "      <td>2.252841e+01</td>\n",
       "      <td>4.584549e+00</td>\n",
       "      <td>7.519589e+00</td>\n",
       "      <td>3.517346e+00</td>\n",
       "      <td>3.161220e+01</td>\n",
       "      <td>3.384781e+01</td>\n",
       "      <td>25691.160000</td>\n",
       "      <td>1.000000</td>\n",
       "    </tr>\n",
       "  </tbody>\n",
       "</table>\n",
       "<p>8 rows × 31 columns</p>\n",
       "</div>"
      ],
      "text/plain": [
       "                Time            V1            V2            V3            V4  \\\n",
       "count  284807.000000  2.848070e+05  2.848070e+05  2.848070e+05  2.848070e+05   \n",
       "mean    94813.859575  1.165980e-15  3.416908e-16 -1.373150e-15  2.086869e-15   \n",
       "std     47488.145955  1.958696e+00  1.651309e+00  1.516255e+00  1.415869e+00   \n",
       "min         0.000000 -5.640751e+01 -7.271573e+01 -4.832559e+01 -5.683171e+00   \n",
       "25%     54201.500000 -9.203734e-01 -5.985499e-01 -8.903648e-01 -8.486401e-01   \n",
       "50%     84692.000000  1.810880e-02  6.548556e-02  1.798463e-01 -1.984653e-02   \n",
       "75%    139320.500000  1.315642e+00  8.037239e-01  1.027196e+00  7.433413e-01   \n",
       "max    172792.000000  2.454930e+00  2.205773e+01  9.382558e+00  1.687534e+01   \n",
       "\n",
       "                 V5            V6            V7            V8            V9  \\\n",
       "count  2.848070e+05  2.848070e+05  2.848070e+05  2.848070e+05  2.848070e+05   \n",
       "mean   9.604066e-16  1.490107e-15 -5.556467e-16  1.177556e-16 -2.406455e-15   \n",
       "std    1.380247e+00  1.332271e+00  1.237094e+00  1.194353e+00  1.098632e+00   \n",
       "min   -1.137433e+02 -2.616051e+01 -4.355724e+01 -7.321672e+01 -1.343407e+01   \n",
       "25%   -6.915971e-01 -7.682956e-01 -5.540759e-01 -2.086297e-01 -6.430976e-01   \n",
       "50%   -5.433583e-02 -2.741871e-01  4.010308e-02  2.235804e-02 -5.142873e-02   \n",
       "75%    6.119264e-01  3.985649e-01  5.704361e-01  3.273459e-01  5.971390e-01   \n",
       "max    3.480167e+01  7.330163e+01  1.205895e+02  2.000721e+01  1.559499e+01   \n",
       "\n",
       "       ...           V21           V22           V23           V24  \\\n",
       "count  ...  2.848070e+05  2.848070e+05  2.848070e+05  2.848070e+05   \n",
       "mean   ...  1.656562e-16 -3.444850e-16  2.578648e-16  4.471968e-15   \n",
       "std    ...  7.345240e-01  7.257016e-01  6.244603e-01  6.056471e-01   \n",
       "min    ... -3.483038e+01 -1.093314e+01 -4.480774e+01 -2.836627e+00   \n",
       "25%    ... -2.283949e-01 -5.423504e-01 -1.618463e-01 -3.545861e-01   \n",
       "50%    ... -2.945017e-02  6.781943e-03 -1.119293e-02  4.097606e-02   \n",
       "75%    ...  1.863772e-01  5.285536e-01  1.476421e-01  4.395266e-01   \n",
       "max    ...  2.720284e+01  1.050309e+01  2.252841e+01  4.584549e+00   \n",
       "\n",
       "                V25           V26           V27           V28         Amount  \\\n",
       "count  2.848070e+05  2.848070e+05  2.848070e+05  2.848070e+05  284807.000000   \n",
       "mean   5.340915e-16  1.687098e-15 -3.666453e-16 -1.220404e-16      88.349619   \n",
       "std    5.212781e-01  4.822270e-01  4.036325e-01  3.300833e-01     250.120109   \n",
       "min   -1.029540e+01 -2.604551e+00 -2.256568e+01 -1.543008e+01       0.000000   \n",
       "25%   -3.171451e-01 -3.269839e-01 -7.083953e-02 -5.295979e-02       5.600000   \n",
       "50%    1.659350e-02 -5.213911e-02  1.342146e-03  1.124383e-02      22.000000   \n",
       "75%    3.507156e-01  2.409522e-01  9.104512e-02  7.827995e-02      77.165000   \n",
       "max    7.519589e+00  3.517346e+00  3.161220e+01  3.384781e+01   25691.160000   \n",
       "\n",
       "               Class  \n",
       "count  284807.000000  \n",
       "mean        0.001727  \n",
       "std         0.041527  \n",
       "min         0.000000  \n",
       "25%         0.000000  \n",
       "50%         0.000000  \n",
       "75%         0.000000  \n",
       "max         1.000000  \n",
       "\n",
       "[8 rows x 31 columns]"
      ]
     },
     "execution_count": 7,
     "metadata": {},
     "output_type": "execute_result"
    }
   ],
   "source": [
    "df.describe()"
   ]
  },
  {
   "cell_type": "markdown",
   "metadata": {},
   "source": [
    "여기서 알 수 있는 정보는 다음과 같다.\n",
    "- Time 과 Amount는 Vn데이터들에 비해 분산이 매우 크다.\n",
    "- Vn으로 표시된 데이터들은 평균이 모두 0이다.\n",
    "- Class의 1은 전체 데이터에서 0.17% 정도 밖에 안된다."
   ]
  },
  {
   "cell_type": "markdown",
   "metadata": {},
   "source": [
    "일반적인 경우라고 한다면 Time과 Amount를 비슷한 scale로 맞춰주는 작업을 하고 어떤 이상한 값, 예컨데 굉장히 크거나 작은 값, 등을 제거할지 말지 따져보거나 resample 과정을 거치거나 하는 작업을 해 줄 것이다. 하지만 원 문서의 작성자는 이 데이터에서 Time 만을 제외하고 그냥 AutoEncoder에 때려 넣어 버린다. 그런데 이 부분은 조금 실수라고 보이는게 제외해야하는 열은 Class이기 때문이다. 원작자는 iloc을 사용했는데 내가 iloc을 잘 안쓰는 이유가 여기에 있다. 나는 Class를 버리고 학습을 시켜보도록 하겠다."
   ]
  },
  {
   "cell_type": "code",
   "execution_count": 8,
   "metadata": {},
   "outputs": [],
   "source": [
    "from sklearn.preprocessing import StandardScaler"
   ]
  },
  {
   "cell_type": "markdown",
   "metadata": {},
   "source": [
    "StandardScaler의 설명을 보면 각 feature에 대한 mean과 std를 구한 후 mean으로 빼고 std로 나누어 준다고 되어있다. Vn 데이터의 경우 std를 1로 맞춰주려는 것이고 Amount의 경우는 둘 다 해주려는 것이다."
   ]
  },
  {
   "cell_type": "code",
   "execution_count": 9,
   "metadata": {},
   "outputs": [],
   "source": [
    "ssc = StandardScaler()"
   ]
  },
  {
   "cell_type": "code",
   "execution_count": 10,
   "metadata": {},
   "outputs": [
    {
     "name": "stdout",
     "output_type": "stream",
     "text": [
      "(284807, 31)\n",
      "(284807, 30)\n",
      "[-1.99658302 -0.69424232 -0.04407492  1.6727735   0.97336551 -0.24511658\n",
      "  0.34706795  0.19367894  0.08263728  0.33112778  0.08338555 -0.54040704\n",
      " -0.61829572 -0.99609892 -0.32461019  1.60401384 -0.53683287  0.24486345\n",
      "  0.03076993  0.49628203  0.32611802 -0.02492336  0.38285444 -0.17691133\n",
      "  0.11050692  0.24658544 -0.39217043  0.33089162 -0.06378115  0.24496426]\n"
     ]
    }
   ],
   "source": [
    "# 원 문서에서는 iloc을 이용하지만 여기서는 내가 더 선호하는 방식으로 바꿔서 작성했다.\n",
    "X = df.drop(\"Class\",axis = 1)\n",
    "X = ssc.fit_transform(X)\n",
    "print(df.shape)\n",
    "print(X.shape)\n",
    "print(X[0])"
   ]
  },
  {
   "cell_type": "markdown",
   "metadata": {},
   "source": [
    "이렇게 30개의 feature로 구성된 데이터들이 완성되었다. 이제 이 녀석을 self-supervised learning으로 학습하여 확실히 majority 가 있는 패턴을 복원하도록 훈련할 것이다. 지금은 Vn으로 라벨이 가려진 Feature에 대해서 한정적인 접근밖에 할 수 없으므로 일반적인 통계를 이용하는 것보다 훨씬 쉽게 문제를 풀 수 있는 장점이 있다."
   ]
  },
  {
   "cell_type": "code",
   "execution_count": 11,
   "metadata": {},
   "outputs": [],
   "source": [
    "num_of_feature = X.shape[1]\n",
    "\n",
    "input_tensor = Input( [num_of_feature] )\n",
    "x = Dense(64, activation = 'relu')(input_tensor)\n",
    "x = Dense(32, activation = 'relu')(x)\n",
    "x = Dense(64, activation = 'relu')(x)\n",
    "output_tensor = Dense(num_of_feature)(x)\n",
    "\n",
    "AutoEncoder = Model(input_tensor, output_tensor)"
   ]
  },
  {
   "cell_type": "code",
   "execution_count": 12,
   "metadata": {},
   "outputs": [
    {
     "name": "stdout",
     "output_type": "stream",
     "text": [
      "Model: \"model\"\n",
      "_________________________________________________________________\n",
      "Layer (type)                 Output Shape              Param #   \n",
      "=================================================================\n",
      "input_1 (InputLayer)         [(None, 30)]              0         \n",
      "_________________________________________________________________\n",
      "dense (Dense)                (None, 64)                1984      \n",
      "_________________________________________________________________\n",
      "dense_1 (Dense)              (None, 32)                2080      \n",
      "_________________________________________________________________\n",
      "dense_2 (Dense)              (None, 64)                2112      \n",
      "_________________________________________________________________\n",
      "dense_3 (Dense)              (None, 30)                1950      \n",
      "=================================================================\n",
      "Total params: 8,126\n",
      "Trainable params: 8,126\n",
      "Non-trainable params: 0\n",
      "_________________________________________________________________\n"
     ]
    }
   ],
   "source": [
    "# 원작자는 adam을 따로 호출해 준 것을 볼 수 있는데 \n",
    "# 아마 learning rate을 조절하기 위함인듯 하다.\n",
    "# 여기서는 좀 더 쉽게 그냥 가본다.\n",
    "#adam = tf.keras.optimizers.Adam(learning_rate=0.0005)\n",
    "AutoEncoder.compile(\n",
    "    optimizer = 'adam',\n",
    "    loss = 'mse',\n",
    "    metrics = ['accuracy'],\n",
    ")\n",
    "AutoEncoder.summary()"
   ]
  },
  {
   "cell_type": "code",
   "execution_count": 13,
   "metadata": {},
   "outputs": [],
   "source": [
    "callback = tf.keras.callbacks.EarlyStopping(\n",
    "    monitor='val_loss',\n",
    "    min_delta=0,\n",
    "    patience=10,\n",
    "    verbose=0,\n",
    "    mode='auto',\n",
    "    baseline=None,\n",
    "    restore_best_weights=True,\n",
    ")"
   ]
  },
  {
   "cell_type": "code",
   "execution_count": 14,
   "metadata": {},
   "outputs": [
    {
     "name": "stdout",
     "output_type": "stream",
     "text": [
      "Epoch 1/200\n",
      "126/126 [==============================] - 1s 3ms/step - loss: 0.8419 - accuracy: 0.1916 - val_loss: 0.2740 - val_accuracy: 0.4778\n",
      "Epoch 2/200\n",
      "126/126 [==============================] - 0s 1ms/step - loss: 0.1948 - accuracy: 0.6416 - val_loss: 0.0914 - val_accuracy: 0.5712\n",
      "Epoch 3/200\n",
      "126/126 [==============================] - 0s 1ms/step - loss: 0.0616 - accuracy: 0.7842 - val_loss: 0.0512 - val_accuracy: 0.7598\n",
      "Epoch 4/200\n",
      "126/126 [==============================] - 0s 1ms/step - loss: 0.0370 - accuracy: 0.8359 - val_loss: 0.0331 - val_accuracy: 0.8444\n",
      "Epoch 5/200\n",
      "126/126 [==============================] - 0s 1ms/step - loss: 0.0249 - accuracy: 0.8676 - val_loss: 0.0233 - val_accuracy: 0.8730\n",
      "Epoch 6/200\n",
      "126/126 [==============================] - 0s 1ms/step - loss: 0.0173 - accuracy: 0.8895 - val_loss: 0.0156 - val_accuracy: 0.8923\n",
      "Epoch 7/200\n",
      "126/126 [==============================] - 0s 1ms/step - loss: 0.0118 - accuracy: 0.9105 - val_loss: 0.0105 - val_accuracy: 0.9165\n",
      "Epoch 8/200\n",
      "126/126 [==============================] - 0s 1ms/step - loss: 0.0085 - accuracy: 0.9276 - val_loss: 0.0070 - val_accuracy: 0.9397\n",
      "Epoch 9/200\n",
      "126/126 [==============================] - 0s 1ms/step - loss: 0.0056 - accuracy: 0.9433 - val_loss: 0.0050 - val_accuracy: 0.9535\n",
      "Epoch 10/200\n",
      "126/126 [==============================] - 0s 1ms/step - loss: 0.0041 - accuracy: 0.9569 - val_loss: 0.0034 - val_accuracy: 0.9654\n",
      "Epoch 11/200\n",
      "126/126 [==============================] - 0s 1ms/step - loss: 0.0028 - accuracy: 0.9677 - val_loss: 0.0027 - val_accuracy: 0.9713\n",
      "Epoch 12/200\n",
      "126/126 [==============================] - 0s 1ms/step - loss: 0.0024 - accuracy: 0.9728 - val_loss: 0.0022 - val_accuracy: 0.9730\n",
      "Epoch 13/200\n",
      "126/126 [==============================] - 0s 1ms/step - loss: 0.0021 - accuracy: 0.9765 - val_loss: 0.0017 - val_accuracy: 0.9773\n",
      "Epoch 14/200\n",
      "126/126 [==============================] - 0s 1ms/step - loss: 0.0016 - accuracy: 0.9785 - val_loss: 0.0015 - val_accuracy: 0.9767\n",
      "Epoch 15/200\n",
      "126/126 [==============================] - 0s 1ms/step - loss: 0.0014 - accuracy: 0.9791 - val_loss: 0.0015 - val_accuracy: 0.9718\n",
      "Epoch 16/200\n",
      "126/126 [==============================] - 0s 1ms/step - loss: 0.0011 - accuracy: 0.9788 - val_loss: 8.6886e-04 - val_accuracy: 0.9816\n",
      "Epoch 17/200\n",
      "126/126 [==============================] - 0s 1ms/step - loss: 7.6783e-04 - accuracy: 0.9828 - val_loss: 5.5833e-04 - val_accuracy: 0.9797\n",
      "Epoch 18/200\n",
      "126/126 [==============================] - 0s 1ms/step - loss: 5.5154e-04 - accuracy: 0.9836 - val_loss: 3.7045e-04 - val_accuracy: 0.9868\n",
      "Epoch 19/200\n",
      "126/126 [==============================] - 0s 1ms/step - loss: 3.6259e-04 - accuracy: 0.9872 - val_loss: 4.8743e-04 - val_accuracy: 0.9828\n",
      "Epoch 20/200\n",
      "126/126 [==============================] - 0s 1ms/step - loss: 5.4884e-04 - accuracy: 0.9804 - val_loss: 2.9040e-04 - val_accuracy: 0.9870\n",
      "Epoch 21/200\n",
      "126/126 [==============================] - 0s 1ms/step - loss: 3.0730e-04 - accuracy: 0.9870 - val_loss: 6.0405e-04 - val_accuracy: 0.9830\n",
      "Epoch 22/200\n",
      "126/126 [==============================] - 0s 1ms/step - loss: 3.6803e-04 - accuracy: 0.9852 - val_loss: 2.7680e-04 - val_accuracy: 0.9903\n",
      "Epoch 23/200\n",
      "126/126 [==============================] - 0s 1ms/step - loss: 2.2840e-04 - accuracy: 0.9894 - val_loss: 2.8788e-04 - val_accuracy: 0.9875\n",
      "Epoch 24/200\n",
      "126/126 [==============================] - 0s 2ms/step - loss: 4.6347e-04 - accuracy: 0.9820 - val_loss: 2.6897e-04 - val_accuracy: 0.9873\n",
      "Epoch 25/200\n",
      "126/126 [==============================] - 0s 1ms/step - loss: 2.1500e-04 - accuracy: 0.9884 - val_loss: 7.2232e-04 - val_accuracy: 0.9837\n",
      "Epoch 26/200\n",
      "126/126 [==============================] - 0s 1ms/step - loss: 3.3569e-04 - accuracy: 0.9854 - val_loss: 3.2440e-04 - val_accuracy: 0.9872\n",
      "Epoch 27/200\n",
      "126/126 [==============================] - 0s 1ms/step - loss: 1.9121e-04 - accuracy: 0.9895 - val_loss: 1.5521e-04 - val_accuracy: 0.9921\n",
      "Epoch 28/200\n",
      "126/126 [==============================] - 0s 1ms/step - loss: 2.1314e-04 - accuracy: 0.9889 - val_loss: 3.3090e-04 - val_accuracy: 0.9890\n",
      "Epoch 29/200\n",
      "126/126 [==============================] - 0s 1ms/step - loss: 3.0071e-04 - accuracy: 0.9860 - val_loss: 1.5400e-04 - val_accuracy: 0.9917\n",
      "Epoch 30/200\n",
      "126/126 [==============================] - 0s 1ms/step - loss: 1.9812e-04 - accuracy: 0.9886 - val_loss: 1.9028e-04 - val_accuracy: 0.9908\n",
      "Epoch 31/200\n",
      "126/126 [==============================] - 0s 1ms/step - loss: 1.9186e-04 - accuracy: 0.9890 - val_loss: 4.3269e-04 - val_accuracy: 0.9771\n",
      "Epoch 32/200\n",
      "126/126 [==============================] - 0s 1ms/step - loss: 4.0541e-04 - accuracy: 0.9823 - val_loss: 1.6168e-04 - val_accuracy: 0.9927\n",
      "Epoch 33/200\n",
      "126/126 [==============================] - 0s 1ms/step - loss: 2.9371e-04 - accuracy: 0.9858 - val_loss: 4.4202e-04 - val_accuracy: 0.9846\n",
      "Epoch 34/200\n",
      "126/126 [==============================] - 0s 1ms/step - loss: 3.0196e-04 - accuracy: 0.9858 - val_loss: 1.6274e-04 - val_accuracy: 0.9908\n",
      "Epoch 35/200\n",
      "126/126 [==============================] - 0s 1ms/step - loss: 1.5541e-04 - accuracy: 0.9898 - val_loss: 3.2011e-04 - val_accuracy: 0.9856\n",
      "Epoch 36/200\n",
      "126/126 [==============================] - 0s 1ms/step - loss: 2.8276e-04 - accuracy: 0.9858 - val_loss: 1.4022e-04 - val_accuracy: 0.9915\n",
      "Epoch 37/200\n",
      "126/126 [==============================] - 0s 1ms/step - loss: 2.3216e-04 - accuracy: 0.9873 - val_loss: 1.9024e-04 - val_accuracy: 0.9898\n",
      "Epoch 38/200\n",
      "126/126 [==============================] - 0s 1ms/step - loss: 2.6186e-04 - accuracy: 0.9857 - val_loss: 1.7140e-04 - val_accuracy: 0.9931\n",
      "Epoch 39/200\n",
      "126/126 [==============================] - 0s 1ms/step - loss: 2.1302e-04 - accuracy: 0.9882 - val_loss: 8.7627e-04 - val_accuracy: 0.9786\n",
      "Epoch 40/200\n",
      "126/126 [==============================] - 0s 1ms/step - loss: 8.2774e-04 - accuracy: 0.9758 - val_loss: 1.2685e-04 - val_accuracy: 0.9930\n",
      "Epoch 41/200\n",
      "126/126 [==============================] - 0s 1ms/step - loss: 1.3314e-04 - accuracy: 0.9910 - val_loss: 7.8030e-05 - val_accuracy: 0.9946\n",
      "Epoch 42/200\n",
      "126/126 [==============================] - 0s 1ms/step - loss: 1.4457e-04 - accuracy: 0.9910 - val_loss: 1.2409e-04 - val_accuracy: 0.9934\n",
      "Epoch 43/200\n",
      "126/126 [==============================] - 0s 1ms/step - loss: 2.8912e-04 - accuracy: 0.9857 - val_loss: 2.7447e-04 - val_accuracy: 0.9876\n",
      "Epoch 44/200\n",
      "126/126 [==============================] - 0s 1ms/step - loss: 3.0409e-04 - accuracy: 0.9876 - val_loss: 0.0013 - val_accuracy: 0.9752\n",
      "Epoch 45/200\n",
      "126/126 [==============================] - 0s 1ms/step - loss: 4.2633e-04 - accuracy: 0.9848 - val_loss: 1.4201e-04 - val_accuracy: 0.9881\n",
      "Epoch 46/200\n",
      "126/126 [==============================] - 0s 1ms/step - loss: 9.5199e-05 - accuracy: 0.9927 - val_loss: 8.8020e-05 - val_accuracy: 0.9945\n",
      "Epoch 47/200\n",
      "126/126 [==============================] - 0s 1ms/step - loss: 8.5348e-05 - accuracy: 0.9935 - val_loss: 1.1951e-04 - val_accuracy: 0.9901\n",
      "Epoch 48/200\n",
      "126/126 [==============================] - 0s 1ms/step - loss: 1.9465e-04 - accuracy: 0.9892 - val_loss: 1.0043e-04 - val_accuracy: 0.9929\n",
      "Epoch 49/200\n",
      "126/126 [==============================] - 0s 1ms/step - loss: 1.0715e-04 - accuracy: 0.9915 - val_loss: 1.2919e-04 - val_accuracy: 0.9901\n",
      "Epoch 50/200\n",
      "126/126 [==============================] - 0s 1ms/step - loss: 2.2716e-04 - accuracy: 0.9877 - val_loss: 1.1604e-04 - val_accuracy: 0.9913\n",
      "Epoch 51/200\n",
      "126/126 [==============================] - 0s 1ms/step - loss: 1.6507e-04 - accuracy: 0.9896 - val_loss: 1.6166e-04 - val_accuracy: 0.9864\n"
     ]
    }
   ],
   "source": [
    "training_history = AutoEncoder.fit(\n",
    "    x=X,\n",
    "    y=X,\n",
    "    batch_size=2048, # 원작자는 2064를 썼는데 왜 그렇게 했는지 잘 모르겠다..\n",
    "    epochs=200,\n",
    "    verbose=1,\n",
    "    callbacks=[callback],\n",
    "    validation_split=0.1, # validation data로 10%의 데이터를 추출한다. -> val_loss 측정\n",
    "    shuffle=True,\n",
    ")"
   ]
  },
  {
   "cell_type": "code",
   "execution_count": 15,
   "metadata": {},
   "outputs": [
    {
     "name": "stdout",
     "output_type": "stream",
     "text": [
      "dict_keys(['loss', 'accuracy', 'val_loss', 'val_accuracy'])\n"
     ]
    }
   ],
   "source": [
    "print(training_history.history.keys())"
   ]
  },
  {
   "cell_type": "code",
   "execution_count": 16,
   "metadata": {},
   "outputs": [
    {
     "data": {
      "image/png": "[encoded data removed]",
      "text/plain": [
       "<Figure size 864x720 with 4 Axes>"
      ]
     },
     "metadata": {
      "needs_background": "light"
     },
     "output_type": "display_data"
    }
   ],
   "source": [
    "fig, ax = plt.subplots(2, 2, figsize=[12, 10])\n",
    "\n",
    "ax[0,0].plot(training_history.history['loss'])\n",
    "ax[0,0].plot(training_history.history['val_loss'])\n",
    "ax[0,0].set_title(\"Loss\")\n",
    "ax[0,0].legend(['loss','val_loss'])\n",
    "\n",
    "ax[0,1].plot(training_history.history['accuracy'])\n",
    "ax[0,1].plot(training_history.history['val_accuracy'])\n",
    "ax[0,1].set_title(\"Accuracy\")\n",
    "ax[0,1].legend(['acc','val_acc'])\n",
    "\n",
    "zoom_range = 15\n",
    "ax[1,0].plot(training_history.history['loss'][:zoom_range])\n",
    "ax[1,0].plot(training_history.history['val_loss'][:zoom_range])\n",
    "ax[1,0].set_title(\"Loss\")\n",
    "ax[1,0].legend(['loss','val_loss'])\n",
    "\n",
    "ax[1,1].plot(training_history.history['accuracy'][:zoom_range])\n",
    "ax[1,1].plot(training_history.history['val_accuracy'][:zoom_range])\n",
    "ax[1,1].set_title(\"Accuracy\")\n",
    "ax[1,1].legend(['acc','val_acc'])\n",
    "\n",
    "plt.show()"
   ]
  },
  {
   "cell_type": "markdown",
   "metadata": {},
   "source": [
    "2 epoch 만에 수렴한 것을 알 수 있다. 이제 이 모델이 얼마나 majority pattern에 대한 복원력이 강력한지 평가해보자. "
   ]
  },
  {
   "cell_type": "code",
   "execution_count": 17,
   "metadata": {},
   "outputs": [
    {
     "data": {
      "text/plain": [
       "(284807,)"
      ]
     },
     "execution_count": 17,
     "metadata": {},
     "output_type": "execute_result"
    }
   ],
   "source": [
    "X_prediction = AutoEncoder.predict(X)\n",
    "mse = np.mean( (X_prediction - X) ** 2 , axis = 1)\n",
    "mse.shape"
   ]
  },
  {
   "cell_type": "code",
   "execution_count": 18,
   "metadata": {},
   "outputs": [
    {
     "data": {
      "text/html": [
       "<div>\n",
       "<style scoped>\n",
       "    .dataframe tbody tr th:only-of-type {\n",
       "        vertical-align: middle;\n",
       "    }\n",
       "\n",
       "    .dataframe tbody tr th {\n",
       "        vertical-align: top;\n",
       "    }\n",
       "\n",
       "    .dataframe thead th {\n",
       "        text-align: right;\n",
       "    }\n",
       "</style>\n",
       "<table border=\"1\" class=\"dataframe\">\n",
       "  <thead>\n",
       "    <tr style=\"text-align: right;\">\n",
       "      <th></th>\n",
       "      <th>mse</th>\n",
       "    </tr>\n",
       "  </thead>\n",
       "  <tbody>\n",
       "    <tr>\n",
       "      <th>0</th>\n",
       "      <td>0.000017</td>\n",
       "    </tr>\n",
       "    <tr>\n",
       "      <th>1</th>\n",
       "      <td>0.000007</td>\n",
       "    </tr>\n",
       "    <tr>\n",
       "      <th>2</th>\n",
       "      <td>0.000027</td>\n",
       "    </tr>\n",
       "    <tr>\n",
       "      <th>3</th>\n",
       "      <td>0.000020</td>\n",
       "    </tr>\n",
       "    <tr>\n",
       "      <th>4</th>\n",
       "      <td>0.000016</td>\n",
       "    </tr>\n",
       "    <tr>\n",
       "      <th>...</th>\n",
       "      <td>...</td>\n",
       "    </tr>\n",
       "    <tr>\n",
       "      <th>284802</th>\n",
       "      <td>0.000419</td>\n",
       "    </tr>\n",
       "    <tr>\n",
       "      <th>284803</th>\n",
       "      <td>0.000014</td>\n",
       "    </tr>\n",
       "    <tr>\n",
       "      <th>284804</th>\n",
       "      <td>0.000020</td>\n",
       "    </tr>\n",
       "    <tr>\n",
       "      <th>284805</th>\n",
       "      <td>0.000017</td>\n",
       "    </tr>\n",
       "    <tr>\n",
       "      <th>284806</th>\n",
       "      <td>0.000011</td>\n",
       "    </tr>\n",
       "  </tbody>\n",
       "</table>\n",
       "<p>284807 rows × 1 columns</p>\n",
       "</div>"
      ],
      "text/plain": [
       "             mse\n",
       "0       0.000017\n",
       "1       0.000007\n",
       "2       0.000027\n",
       "3       0.000020\n",
       "4       0.000016\n",
       "...          ...\n",
       "284802  0.000419\n",
       "284803  0.000014\n",
       "284804  0.000020\n",
       "284805  0.000017\n",
       "284806  0.000011\n",
       "\n",
       "[284807 rows x 1 columns]"
      ]
     },
     "execution_count": 18,
     "metadata": {},
     "output_type": "execute_result"
    }
   ],
   "source": [
    "mse_df = pd.DataFrame({'mse' : mse})\n",
    "mse_df"
   ]
  },
  {
   "cell_type": "code",
   "execution_count": 19,
   "metadata": {},
   "outputs": [
    {
     "data": {
      "text/html": [
       "<div>\n",
       "<style scoped>\n",
       "    .dataframe tbody tr th:only-of-type {\n",
       "        vertical-align: middle;\n",
       "    }\n",
       "\n",
       "    .dataframe tbody tr th {\n",
       "        vertical-align: top;\n",
       "    }\n",
       "\n",
       "    .dataframe thead th {\n",
       "        text-align: right;\n",
       "    }\n",
       "</style>\n",
       "<table border=\"1\" class=\"dataframe\">\n",
       "  <thead>\n",
       "    <tr style=\"text-align: right;\">\n",
       "      <th></th>\n",
       "      <th>mse</th>\n",
       "    </tr>\n",
       "  </thead>\n",
       "  <tbody>\n",
       "    <tr>\n",
       "      <th>count</th>\n",
       "      <td>284807.000000</td>\n",
       "    </tr>\n",
       "    <tr>\n",
       "      <th>mean</th>\n",
       "      <td>0.000064</td>\n",
       "    </tr>\n",
       "    <tr>\n",
       "      <th>std</th>\n",
       "      <td>0.000725</td>\n",
       "    </tr>\n",
       "    <tr>\n",
       "      <th>min</th>\n",
       "      <td>0.000003</td>\n",
       "    </tr>\n",
       "    <tr>\n",
       "      <th>25%</th>\n",
       "      <td>0.000010</td>\n",
       "    </tr>\n",
       "    <tr>\n",
       "      <th>50%</th>\n",
       "      <td>0.000015</td>\n",
       "    </tr>\n",
       "    <tr>\n",
       "      <th>75%</th>\n",
       "      <td>0.000025</td>\n",
       "    </tr>\n",
       "    <tr>\n",
       "      <th>max</th>\n",
       "      <td>0.139337</td>\n",
       "    </tr>\n",
       "  </tbody>\n",
       "</table>\n",
       "</div>"
      ],
      "text/plain": [
       "                 mse\n",
       "count  284807.000000\n",
       "mean        0.000064\n",
       "std         0.000725\n",
       "min         0.000003\n",
       "25%         0.000010\n",
       "50%         0.000015\n",
       "75%         0.000025\n",
       "max         0.139337"
      ]
     },
     "execution_count": 19,
     "metadata": {},
     "output_type": "execute_result"
    }
   ],
   "source": [
    "mse_df.describe()"
   ]
  },
  {
   "cell_type": "code",
   "execution_count": 51,
   "metadata": {},
   "outputs": [
    {
     "data": {
      "image/png": "[encoded data removed]",
      "text/plain": [
       "<Figure size 432x288 with 1 Axes>"
      ]
     },
     "metadata": {
      "needs_background": "light"
     },
     "output_type": "display_data"
    }
   ],
   "source": [
    "hist, bins, _ = plt.hist(mse,bins = 5000, range = (mse.min(),(mse.max() - mse.min())/5000 * 10))\n",
    "plt.show()"
   ]
  },
  {
   "cell_type": "code",
   "execution_count": 52,
   "metadata": {},
   "outputs": [
    {
     "data": {
      "text/plain": [
       "5e-05"
      ]
     },
     "execution_count": 52,
     "metadata": {},
     "output_type": "execute_result"
    }
   ],
   "source": [
    "threshold = 0.00005#bins[1]\n",
    "threshold"
   ]
  },
  {
   "cell_type": "code",
   "execution_count": 53,
   "metadata": {},
   "outputs": [
    {
     "data": {
      "text/html": [
       "<div>\n",
       "<style scoped>\n",
       "    .dataframe tbody tr th:only-of-type {\n",
       "        vertical-align: middle;\n",
       "    }\n",
       "\n",
       "    .dataframe tbody tr th {\n",
       "        vertical-align: top;\n",
       "    }\n",
       "\n",
       "    .dataframe thead th {\n",
       "        text-align: right;\n",
       "    }\n",
       "</style>\n",
       "<table border=\"1\" class=\"dataframe\">\n",
       "  <thead>\n",
       "    <tr style=\"text-align: right;\">\n",
       "      <th></th>\n",
       "      <th>mse</th>\n",
       "      <th>Prediction</th>\n",
       "    </tr>\n",
       "  </thead>\n",
       "  <tbody>\n",
       "    <tr>\n",
       "      <th>0</th>\n",
       "      <td>0.000017</td>\n",
       "      <td>0</td>\n",
       "    </tr>\n",
       "    <tr>\n",
       "      <th>1</th>\n",
       "      <td>0.000007</td>\n",
       "      <td>0</td>\n",
       "    </tr>\n",
       "    <tr>\n",
       "      <th>2</th>\n",
       "      <td>0.000027</td>\n",
       "      <td>0</td>\n",
       "    </tr>\n",
       "    <tr>\n",
       "      <th>3</th>\n",
       "      <td>0.000020</td>\n",
       "      <td>0</td>\n",
       "    </tr>\n",
       "    <tr>\n",
       "      <th>4</th>\n",
       "      <td>0.000016</td>\n",
       "      <td>0</td>\n",
       "    </tr>\n",
       "    <tr>\n",
       "      <th>...</th>\n",
       "      <td>...</td>\n",
       "      <td>...</td>\n",
       "    </tr>\n",
       "    <tr>\n",
       "      <th>284802</th>\n",
       "      <td>0.000419</td>\n",
       "      <td>1</td>\n",
       "    </tr>\n",
       "    <tr>\n",
       "      <th>284803</th>\n",
       "      <td>0.000014</td>\n",
       "      <td>0</td>\n",
       "    </tr>\n",
       "    <tr>\n",
       "      <th>284804</th>\n",
       "      <td>0.000020</td>\n",
       "      <td>0</td>\n",
       "    </tr>\n",
       "    <tr>\n",
       "      <th>284805</th>\n",
       "      <td>0.000017</td>\n",
       "      <td>0</td>\n",
       "    </tr>\n",
       "    <tr>\n",
       "      <th>284806</th>\n",
       "      <td>0.000011</td>\n",
       "      <td>0</td>\n",
       "    </tr>\n",
       "  </tbody>\n",
       "</table>\n",
       "<p>284807 rows × 2 columns</p>\n",
       "</div>"
      ],
      "text/plain": [
       "             mse  Prediction\n",
       "0       0.000017           0\n",
       "1       0.000007           0\n",
       "2       0.000027           0\n",
       "3       0.000020           0\n",
       "4       0.000016           0\n",
       "...          ...         ...\n",
       "284802  0.000419           1\n",
       "284803  0.000014           0\n",
       "284804  0.000020           0\n",
       "284805  0.000017           0\n",
       "284806  0.000011           0\n",
       "\n",
       "[284807 rows x 2 columns]"
      ]
     },
     "execution_count": 53,
     "metadata": {},
     "output_type": "execute_result"
    }
   ],
   "source": [
    "mse_df[\"Prediction\"] = 1\n",
    "mse_df.loc[mse_df[\"mse\"] < threshold, \"Prediction\"] = 0\n",
    "mse_df"
   ]
  },
  {
   "cell_type": "code",
   "execution_count": 54,
   "metadata": {},
   "outputs": [],
   "source": [
    "from sklearn.metrics import roc_curve, auc, RocCurveDisplay"
   ]
  },
  {
   "cell_type": "code",
   "execution_count": 55,
   "metadata": {},
   "outputs": [
    {
     "name": "stdout",
     "output_type": "stream",
     "text": [
      "True\n"
     ]
    }
   ],
   "source": [
    "y = df[\"Class\"].to_numpy()\n",
    "pred = mse_df[\"Prediction\"].to_numpy()\n",
    "print(y.shape == pred.shape)"
   ]
  },
  {
   "cell_type": "code",
   "execution_count": 56,
   "metadata": {},
   "outputs": [
    {
     "data": {
      "image/png": "[encoded data removed]",
      "text/plain": [
       "<Figure size 432x288 with 1 Axes>"
      ]
     },
     "metadata": {
      "needs_background": "light"
     },
     "output_type": "display_data"
    }
   ],
   "source": [
    "fpr, tpr, thresholds = roc_curve(y, pred)\n",
    "roc_auc = auc(fpr, tpr)\n",
    "display = RocCurveDisplay(fpr=fpr, tpr=tpr, roc_auc=roc_auc,)\n",
    "display.plot()\n",
    "plt.show()"
   ]
  },
  {
   "cell_type": "code",
   "execution_count": null,
   "metadata": {},
   "outputs": [],
   "source": []
  }
 ],
 "metadata": {
  "kernelspec": {
   "display_name": "Python 3",
   "language": "python",
   "name": "python3"
  },
  "language_info": {
   "codemirror_mode": {
    "name": "ipython",
    "version": 3
   },
   "file_extension": ".py",
   "mimetype": "text/x-python",
   "name": "python",
   "nbconvert_exporter": "python",
   "pygments_lexer": "ipython3",
   "version": "3.6.9"
  }
 },
 "nbformat": 4,
 "nbformat_minor": 2
}
